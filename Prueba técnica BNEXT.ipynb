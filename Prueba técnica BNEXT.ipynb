{
 "cells": [
  {
   "cell_type": "markdown",
   "metadata": {},
   "source": [
    "Importo librerías necesarias\n"
   ]
  },
  {
   "cell_type": "code",
   "execution_count": 136,
   "metadata": {
    "scrolled": true
   },
   "outputs": [
    {
     "data": {
      "text/html": [
       "        <script type=\"text/javascript\">\n",
       "        window.PlotlyConfig = {MathJaxConfig: 'local'};\n",
       "        if (window.MathJax) {MathJax.Hub.Config({SVG: {font: \"STIX-Web\"}});}\n",
       "        if (typeof require !== 'undefined') {\n",
       "        require.undef(\"plotly\");\n",
       "        requirejs.config({\n",
       "            paths: {\n",
       "                'plotly': ['https://cdn.plot.ly/plotly-latest.min']\n",
       "            }\n",
       "        });\n",
       "        require(['plotly'], function(Plotly) {\n",
       "            window._Plotly = Plotly;\n",
       "        });\n",
       "        }\n",
       "        </script>\n",
       "        "
      ]
     },
     "metadata": {},
     "output_type": "display_data"
    }
   ],
   "source": [
    "import pandas as pd\n",
    "import numpy as np\n",
    "import matplotlib \n",
    "import matplotlib.pyplot as plt\n",
    "import datetime as dt\n",
    "from datetime import datetime\n",
    "import seaborn as sns\n",
    "import plotly.plotly as py\n",
    "import plotly.graph_objects as go\n",
    "from plotly import tools\n",
    "from sklearn.cluster import KMeans\n",
    "from sklearn import datasets\n",
    "import cufflinks as cf\n",
    "import chart_studio.plotly\n",
    "\n",
    "cf.go_offline()\n",
    "chart_studio.tools.set_credentials_file(username='DemoAccount', api_key='lr1c37zw81')"
   ]
  },
  {
   "cell_type": "markdown",
   "metadata": {},
   "source": [
    "# Exploración del archivo csv"
   ]
  },
  {
   "cell_type": "code",
   "execution_count": 137,
   "metadata": {},
   "outputs": [
    {
     "data": {
      "text/html": [
       "<div>\n",
       "<style scoped>\n",
       "    .dataframe tbody tr th:only-of-type {\n",
       "        vertical-align: middle;\n",
       "    }\n",
       "\n",
       "    .dataframe tbody tr th {\n",
       "        vertical-align: top;\n",
       "    }\n",
       "\n",
       "    .dataframe thead th {\n",
       "        text-align: right;\n",
       "    }\n",
       "</style>\n",
       "<table border=\"1\" class=\"dataframe\">\n",
       "  <thead>\n",
       "    <tr style=\"text-align: right;\">\n",
       "      <th></th>\n",
       "      <th>user_id</th>\n",
       "      <th>amount</th>\n",
       "      <th>category</th>\n",
       "      <th>date</th>\n",
       "    </tr>\n",
       "  </thead>\n",
       "  <tbody>\n",
       "    <tr>\n",
       "      <th>0</th>\n",
       "      <td>jcbvas-raczml-ghjpyi</td>\n",
       "      <td>7.500</td>\n",
       "      <td>Purchase</td>\n",
       "      <td>2018-12-01 07:58:39</td>\n",
       "    </tr>\n",
       "    <tr>\n",
       "      <th>1</th>\n",
       "      <td>nscvb-jlazc-kihpj</td>\n",
       "      <td>0.000</td>\n",
       "      <td>Purchase</td>\n",
       "      <td>2018-12-01 07:58:27</td>\n",
       "    </tr>\n",
       "    <tr>\n",
       "      <th>2</th>\n",
       "      <td>aavoq-mmzuy-yypqt</td>\n",
       "      <td>125.000</td>\n",
       "      <td>Topup TPV</td>\n",
       "      <td>2018-12-01 07:57:50</td>\n",
       "    </tr>\n",
       "    <tr>\n",
       "      <th>3</th>\n",
       "      <td>jjiiav-rrggmz-ggxxyp</td>\n",
       "      <td>845.000</td>\n",
       "      <td>Purchase</td>\n",
       "      <td>2018-12-01 07:57:46</td>\n",
       "    </tr>\n",
       "    <tr>\n",
       "      <th>4</th>\n",
       "      <td>nqsoc-jylua-ktiqh</td>\n",
       "      <td>1009.925</td>\n",
       "      <td>Topup TPV</td>\n",
       "      <td>2018-12-01 07:57:16</td>\n",
       "    </tr>\n",
       "  </tbody>\n",
       "</table>\n",
       "</div>"
      ],
      "text/plain": [
       "                user_id    amount   category                 date\n",
       "0  jcbvas-raczml-ghjpyi     7.500   Purchase  2018-12-01 07:58:39\n",
       "1     nscvb-jlazc-kihpj     0.000   Purchase  2018-12-01 07:58:27\n",
       "2     aavoq-mmzuy-yypqt   125.000  Topup TPV  2018-12-01 07:57:50\n",
       "3  jjiiav-rrggmz-ggxxyp   845.000   Purchase  2018-12-01 07:57:46\n",
       "4     nqsoc-jylua-ktiqh  1009.925  Topup TPV  2018-12-01 07:57:16"
      ]
     },
     "execution_count": 137,
     "metadata": {},
     "output_type": "execute_result"
    }
   ],
   "source": [
    "#Leo el archivo csv\n",
    "data = pd.read_csv('/home/alejandro/Descargas/data_test_bnext.csv')\n",
    "data.head()"
   ]
  },
  {
   "cell_type": "code",
   "execution_count": 138,
   "metadata": {},
   "outputs": [
    {
     "name": "stdout",
     "output_type": "stream",
     "text": [
      "<class 'pandas.core.frame.DataFrame'>\n",
      "RangeIndex: 158693 entries, 0 to 158692\n",
      "Data columns (total 4 columns):\n",
      "user_id     158693 non-null object\n",
      "amount      158693 non-null float64\n",
      "category    158693 non-null object\n",
      "date        158693 non-null object\n",
      "dtypes: float64(1), object(3)\n",
      "memory usage: 4.8+ MB\n"
     ]
    }
   ],
   "source": [
    "#Comprobando el tipo de dato por columna y el número de registros totales\n",
    "data.info()"
   ]
  },
  {
   "cell_type": "code",
   "execution_count": 139,
   "metadata": {},
   "outputs": [
    {
     "data": {
      "text/plain": [
       "user_id     0\n",
       "amount      0\n",
       "category    0\n",
       "date        0\n",
       "dtype: int64"
      ]
     },
     "execution_count": 139,
     "metadata": {},
     "output_type": "execute_result"
    }
   ],
   "source": [
    "#Comprobando si hay valores nulls\n",
    "data.isnull().sum()"
   ]
  },
  {
   "cell_type": "code",
   "execution_count": 140,
   "metadata": {},
   "outputs": [
    {
     "data": {
      "text/plain": [
       "38843"
      ]
     },
     "execution_count": 140,
     "metadata": {},
     "output_type": "execute_result"
    }
   ],
   "source": [
    "# Observo el nº de usuarios distintos\n",
    "user = data['user_id'].unique()\n",
    "len(user)"
   ]
  },
  {
   "cell_type": "code",
   "execution_count": 141,
   "metadata": {},
   "outputs": [
    {
     "data": {
      "text/plain": [
       "0.0"
      ]
     },
     "execution_count": 141,
     "metadata": {},
     "output_type": "execute_result"
    }
   ],
   "source": [
    "#Compruebo si hay valores negativos\n",
    "data.amount.min()"
   ]
  },
  {
   "cell_type": "code",
   "execution_count": 142,
   "metadata": {},
   "outputs": [
    {
     "name": "stdout",
     "output_type": "stream",
     "text": [
      "2018-12-01 07:58:39\n",
      "2018-11-20 07:59:18\n"
     ]
    }
   ],
   "source": [
    "'''\n",
    "Comprobando el periodo de tiempo del dataset(10 días, porque los datos del día 1/12 no son representativos\n",
    "ya que solo hay hasta las 8:00 de la mañana)\n",
    "'''\n",
    "print(data['date'].max())\n",
    "print(data['date'].min())"
   ]
  },
  {
   "cell_type": "code",
   "execution_count": 143,
   "metadata": {},
   "outputs": [],
   "source": [
    "#Quitamos las horas a la columna date para poder trabajar mejor.\n",
    "data['date'] = pd.to_datetime(data['date']).dt.date;"
   ]
  },
  {
   "cell_type": "markdown",
   "metadata": {},
   "source": [
    "# Pregunta nº 1 "
   ]
  },
  {
   "cell_type": "markdown",
   "metadata": {},
   "source": [
    "PREGUNTA 1: La primera pregunta tiene que ver con los usuarios que han gastado en este periodo. ¿Se te ocurre alguna manera de agrupar a los usuarios en función de su valor? Explica por favor la razón de agruparlos de la manera elegida y los cálculos que has realizado para ello."
   ]
  },
  {
   "cell_type": "code",
   "execution_count": 144,
   "metadata": {},
   "outputs": [
    {
     "data": {
      "text/html": [
       "<div>\n",
       "<style scoped>\n",
       "    .dataframe tbody tr th:only-of-type {\n",
       "        vertical-align: middle;\n",
       "    }\n",
       "\n",
       "    .dataframe tbody tr th {\n",
       "        vertical-align: top;\n",
       "    }\n",
       "\n",
       "    .dataframe thead th {\n",
       "        text-align: right;\n",
       "    }\n",
       "</style>\n",
       "<table border=\"1\" class=\"dataframe\">\n",
       "  <thead>\n",
       "    <tr style=\"text-align: right;\">\n",
       "      <th></th>\n",
       "      <th>user_id</th>\n",
       "      <th>amount</th>\n",
       "      <th>category</th>\n",
       "      <th>date</th>\n",
       "    </tr>\n",
       "  </thead>\n",
       "  <tbody>\n",
       "    <tr>\n",
       "      <th>0</th>\n",
       "      <td>jcbvas-raczml-ghjpyi</td>\n",
       "      <td>7.500</td>\n",
       "      <td>Purchase</td>\n",
       "      <td>2018-12-01</td>\n",
       "    </tr>\n",
       "    <tr>\n",
       "      <th>1</th>\n",
       "      <td>nscvb-jlazc-kihpj</td>\n",
       "      <td>0.000</td>\n",
       "      <td>Purchase</td>\n",
       "      <td>2018-12-01</td>\n",
       "    </tr>\n",
       "    <tr>\n",
       "      <th>3</th>\n",
       "      <td>jjiiav-rrggmz-ggxxyp</td>\n",
       "      <td>845.000</td>\n",
       "      <td>Purchase</td>\n",
       "      <td>2018-12-01</td>\n",
       "    </tr>\n",
       "    <tr>\n",
       "      <th>5</th>\n",
       "      <td>ooqab-uuymc-qqtyj</td>\n",
       "      <td>10.000</td>\n",
       "      <td>Purchase</td>\n",
       "      <td>2018-12-01</td>\n",
       "    </tr>\n",
       "    <tr>\n",
       "      <th>6</th>\n",
       "      <td>oaqva-umyzm-qytpy</td>\n",
       "      <td>37.475</td>\n",
       "      <td>Purchase</td>\n",
       "      <td>2018-12-01</td>\n",
       "    </tr>\n",
       "  </tbody>\n",
       "</table>\n",
       "</div>"
      ],
      "text/plain": [
       "                user_id   amount  category        date\n",
       "0  jcbvas-raczml-ghjpyi    7.500  Purchase  2018-12-01\n",
       "1     nscvb-jlazc-kihpj    0.000  Purchase  2018-12-01\n",
       "3  jjiiav-rrggmz-ggxxyp  845.000  Purchase  2018-12-01\n",
       "5     ooqab-uuymc-qqtyj   10.000  Purchase  2018-12-01\n",
       "6     oaqva-umyzm-qytpy   37.475  Purchase  2018-12-01"
      ]
     },
     "execution_count": 144,
     "metadata": {},
     "output_type": "execute_result"
    }
   ],
   "source": [
    "\"\"\"\n",
    "Como nos piden que agrupemos a los usuarios en función de los gastos, solo utilizaré las categorías 'Purchase' y \n",
    "'Bnext send money', dejando a un lado los 'Topup TPV' (ingresos).\n",
    "\"\"\"\n",
    "gastos = data[data.category != 'Topup TPV']\n",
    "gastos.head()"
   ]
  },
  {
   "cell_type": "code",
   "execution_count": 145,
   "metadata": {},
   "outputs": [
    {
     "data": {
      "text/html": [
       "<div>\n",
       "<style scoped>\n",
       "    .dataframe tbody tr th:only-of-type {\n",
       "        vertical-align: middle;\n",
       "    }\n",
       "\n",
       "    .dataframe tbody tr th {\n",
       "        vertical-align: top;\n",
       "    }\n",
       "\n",
       "    .dataframe thead th {\n",
       "        text-align: right;\n",
       "    }\n",
       "</style>\n",
       "<table border=\"1\" class=\"dataframe\">\n",
       "  <thead>\n",
       "    <tr style=\"text-align: right;\">\n",
       "      <th></th>\n",
       "      <th>user_id</th>\n",
       "      <th>amount</th>\n",
       "    </tr>\n",
       "  </thead>\n",
       "  <tbody>\n",
       "    <tr>\n",
       "      <th>0</th>\n",
       "      <td>qsqbs-ylycl-titji</td>\n",
       "      <td>125201.750</td>\n",
       "    </tr>\n",
       "    <tr>\n",
       "      <th>1</th>\n",
       "      <td>bbqij-ccygr-jjtxg</td>\n",
       "      <td>66192.475</td>\n",
       "    </tr>\n",
       "    <tr>\n",
       "      <th>2</th>\n",
       "      <td>jvjja-rzrrm-gpggy</td>\n",
       "      <td>58521.500</td>\n",
       "    </tr>\n",
       "    <tr>\n",
       "      <th>3</th>\n",
       "      <td>bcijo-cagru-jhxgq</td>\n",
       "      <td>51673.925</td>\n",
       "    </tr>\n",
       "    <tr>\n",
       "      <th>4</th>\n",
       "      <td>jicsc-rgala-gxhih</td>\n",
       "      <td>47597.500</td>\n",
       "    </tr>\n",
       "  </tbody>\n",
       "</table>\n",
       "</div>"
      ],
      "text/plain": [
       "             user_id      amount\n",
       "0  qsqbs-ylycl-titji  125201.750\n",
       "1  bbqij-ccygr-jjtxg   66192.475\n",
       "2  jvjja-rzrrm-gpggy   58521.500\n",
       "3  bcijo-cagru-jhxgq   51673.925\n",
       "4  jicsc-rgala-gxhih   47597.500"
      ]
     },
     "execution_count": 145,
     "metadata": {},
     "output_type": "execute_result"
    }
   ],
   "source": [
    "# Calculo el gasto total por cliente\n",
    "\n",
    "gasto_total_cliente = pd.pivot_table(gastos, index = 'user_id', values = 'amount', aggfunc = ({'amount':sum}))\n",
    "gasto_total_cliente = gasto_total_cliente.sort_values(by = ['amount'], ascending = False)\n",
    "gasto_total_cliente.reset_index(inplace = True)\n",
    "gasto_total_cliente.head()"
   ]
  },
  {
   "cell_type": "code",
   "execution_count": 146,
   "metadata": {},
   "outputs": [
    {
     "data": {
      "text/html": [
       "<div>\n",
       "<style scoped>\n",
       "    .dataframe tbody tr th:only-of-type {\n",
       "        vertical-align: middle;\n",
       "    }\n",
       "\n",
       "    .dataframe tbody tr th {\n",
       "        vertical-align: top;\n",
       "    }\n",
       "\n",
       "    .dataframe thead th {\n",
       "        text-align: right;\n",
       "    }\n",
       "</style>\n",
       "<table border=\"1\" class=\"dataframe\">\n",
       "  <thead>\n",
       "    <tr style=\"text-align: right;\">\n",
       "      <th></th>\n",
       "      <th>user_id</th>\n",
       "      <th>charges</th>\n",
       "    </tr>\n",
       "  </thead>\n",
       "  <tbody>\n",
       "    <tr>\n",
       "      <th>0</th>\n",
       "      <td>qsqbs-ylycl-titji</td>\n",
       "      <td>99</td>\n",
       "    </tr>\n",
       "    <tr>\n",
       "      <th>1</th>\n",
       "      <td>vocqa-zuaym-pqhty</td>\n",
       "      <td>70</td>\n",
       "    </tr>\n",
       "    <tr>\n",
       "      <th>2</th>\n",
       "      <td>avo-mzu-ypq</td>\n",
       "      <td>65</td>\n",
       "    </tr>\n",
       "    <tr>\n",
       "      <th>3</th>\n",
       "      <td>nncjs-jjarl-kkhgi</td>\n",
       "      <td>56</td>\n",
       "    </tr>\n",
       "    <tr>\n",
       "      <th>4</th>\n",
       "      <td>vcasn-zamlj-phyik</td>\n",
       "      <td>55</td>\n",
       "    </tr>\n",
       "  </tbody>\n",
       "</table>\n",
       "</div>"
      ],
      "text/plain": [
       "             user_id  charges\n",
       "0  qsqbs-ylycl-titji       99\n",
       "1  vocqa-zuaym-pqhty       70\n",
       "2        avo-mzu-ypq       65\n",
       "3  nncjs-jjarl-kkhgi       56\n",
       "4  vcasn-zamlj-phyik       55"
      ]
     },
     "execution_count": 146,
     "metadata": {},
     "output_type": "execute_result"
    }
   ],
   "source": [
    "# Calculo el nº de operaciones (charges) por clientes \n",
    "\n",
    "numero_gastos_clientes = pd.pivot_table(gastos, index = ['user_id'], values = 'amount', aggfunc = ({'amount': 'count'}))\n",
    "numero_gastos_clientes = numero_gastos_clientes.sort_values(by = ['amount'],ascending = False)\n",
    "numero_gastos_clientes.head()\n",
    "numero_gastos_clientes = numero_gastos_clientes.rename(columns={'amount':'charges'})\n",
    "numero_gastos_clientes.reset_index(inplace = True)\n",
    "numero_gastos_clientes.head()"
   ]
  },
  {
   "cell_type": "code",
   "execution_count": 147,
   "metadata": {},
   "outputs": [
    {
     "data": {
      "text/html": [
       "<div>\n",
       "<style scoped>\n",
       "    .dataframe tbody tr th:only-of-type {\n",
       "        vertical-align: middle;\n",
       "    }\n",
       "\n",
       "    .dataframe tbody tr th {\n",
       "        vertical-align: top;\n",
       "    }\n",
       "\n",
       "    .dataframe thead th {\n",
       "        text-align: right;\n",
       "    }\n",
       "</style>\n",
       "<table border=\"1\" class=\"dataframe\">\n",
       "  <thead>\n",
       "    <tr style=\"text-align: right;\">\n",
       "      <th></th>\n",
       "      <th>user_id</th>\n",
       "      <th>amount</th>\n",
       "      <th>charges</th>\n",
       "    </tr>\n",
       "  </thead>\n",
       "  <tbody>\n",
       "    <tr>\n",
       "      <th>0</th>\n",
       "      <td>qsqbs-ylycl-titji</td>\n",
       "      <td>125201.750</td>\n",
       "      <td>99</td>\n",
       "    </tr>\n",
       "    <tr>\n",
       "      <th>1</th>\n",
       "      <td>bbqij-ccygr-jjtxg</td>\n",
       "      <td>66192.475</td>\n",
       "      <td>30</td>\n",
       "    </tr>\n",
       "    <tr>\n",
       "      <th>2</th>\n",
       "      <td>jvjja-rzrrm-gpggy</td>\n",
       "      <td>58521.500</td>\n",
       "      <td>13</td>\n",
       "    </tr>\n",
       "    <tr>\n",
       "      <th>3</th>\n",
       "      <td>bcijo-cagru-jhxgq</td>\n",
       "      <td>51673.925</td>\n",
       "      <td>36</td>\n",
       "    </tr>\n",
       "    <tr>\n",
       "      <th>4</th>\n",
       "      <td>jicsc-rgala-gxhih</td>\n",
       "      <td>47597.500</td>\n",
       "      <td>4</td>\n",
       "    </tr>\n",
       "  </tbody>\n",
       "</table>\n",
       "</div>"
      ],
      "text/plain": [
       "             user_id      amount  charges\n",
       "0  qsqbs-ylycl-titji  125201.750       99\n",
       "1  bbqij-ccygr-jjtxg   66192.475       30\n",
       "2  jvjja-rzrrm-gpggy   58521.500       13\n",
       "3  bcijo-cagru-jhxgq   51673.925       36\n",
       "4  jicsc-rgala-gxhih   47597.500        4"
      ]
     },
     "execution_count": 147,
     "metadata": {},
     "output_type": "execute_result"
    }
   ],
   "source": [
    "# Mergeo los resultados anteriores para poder tenerlo todo en la misma tabla y poder realizar más cálculos.\n",
    "\n",
    "resultado = pd.merge(gasto_total_cliente, numero_gastos_clientes, on = 'user_id')\n",
    "resultado.head()"
   ]
  },
  {
   "cell_type": "code",
   "execution_count": 148,
   "metadata": {},
   "outputs": [
    {
     "name": "stdout",
     "output_type": "stream",
     "text": [
      "[[1.         0.30058184]\n",
      " [0.30058184 1.        ]]\n"
     ]
    },
    {
     "data": {
      "image/png": "[encoded data removed]",
      "text/plain": [
       "<Figure size 432x288 with 1 Axes>"
      ]
     },
     "metadata": {},
     "output_type": "display_data"
    }
   ],
   "source": [
    "# Observo la correlación entre las variables gasto total por cliente y nº de gastos totales por cliente.\n",
    "print(np.corrcoef(resultado['amount'], resultado['charges']))\n",
    "plt.scatter(resultado['amount'],resultado['charges']);\n",
    "\n",
    "#La correlación es baja lo que indica que las variables son independientes e indican datos distintos."
   ]
  },
  {
   "cell_type": "code",
   "execution_count": 149,
   "metadata": {},
   "outputs": [
    {
     "ename": "ImportError",
     "evalue": "cannot import name 'qualitative'",
     "output_type": "error",
     "traceback": [
      "\u001b[0;31m---------------------------------------------------------------------------\u001b[0m",
      "\u001b[0;31mImportError\u001b[0m                               Traceback (most recent call last)",
      "\u001b[0;32m<ipython-input-149-90c1889f0e30>\u001b[0m in \u001b[0;36m<module>\u001b[0;34m\u001b[0m\n\u001b[0;32m----> 1\u001b[0;31m \u001b[0;32mimport\u001b[0m \u001b[0mplotly\u001b[0m\u001b[0;34m.\u001b[0m\u001b[0mexpress\u001b[0m \u001b[0;32mas\u001b[0m \u001b[0mpx\u001b[0m\u001b[0;34m\u001b[0m\u001b[0;34m\u001b[0m\u001b[0m\n\u001b[0m\u001b[1;32m      2\u001b[0m \u001b[0miris\u001b[0m \u001b[0;34m=\u001b[0m \u001b[0mpx\u001b[0m\u001b[0;34m.\u001b[0m\u001b[0mresultado\u001b[0m\u001b[0;34m.\u001b[0m\u001b[0miris\u001b[0m\u001b[0;34m(\u001b[0m\u001b[0;34m)\u001b[0m\u001b[0;34m\u001b[0m\u001b[0;34m\u001b[0m\u001b[0m\n\u001b[1;32m      3\u001b[0m \u001b[0mfig\u001b[0m \u001b[0;34m=\u001b[0m \u001b[0mpx\u001b[0m\u001b[0;34m.\u001b[0m\u001b[0mscatter\u001b[0m\u001b[0;34m(\u001b[0m\u001b[0miris\u001b[0m\u001b[0;34m,\u001b[0m \u001b[0mx\u001b[0m\u001b[0;34m=\u001b[0m\u001b[0;34m\"amount\"\u001b[0m\u001b[0;34m,\u001b[0m \u001b[0my\u001b[0m\u001b[0;34m=\u001b[0m\u001b[0;34m\"charges\"\u001b[0m\u001b[0;34m)\u001b[0m\u001b[0;34m\u001b[0m\u001b[0;34m\u001b[0m\u001b[0m\n\u001b[1;32m      4\u001b[0m \u001b[0mfig\u001b[0m\u001b[0;34m.\u001b[0m\u001b[0mshow\u001b[0m\u001b[0;34m(\u001b[0m\u001b[0;34m)\u001b[0m\u001b[0;34m\u001b[0m\u001b[0;34m\u001b[0m\u001b[0m\n",
      "\u001b[0;32m~/.local/lib/python3.6/site-packages/plotly/express/__init__.py\u001b[0m in \u001b[0;36m<module>\u001b[0;34m\u001b[0m\n\u001b[1;32m      4\u001b[0m \"\"\"\n\u001b[1;32m      5\u001b[0m \u001b[0;34m\u001b[0m\u001b[0m\n\u001b[0;32m----> 6\u001b[0;31m from ._chart_types import (  # noqa: F401\n\u001b[0m\u001b[1;32m      7\u001b[0m     \u001b[0mscatter\u001b[0m\u001b[0;34m,\u001b[0m\u001b[0;34m\u001b[0m\u001b[0;34m\u001b[0m\u001b[0m\n\u001b[1;32m      8\u001b[0m     \u001b[0mscatter_3d\u001b[0m\u001b[0;34m,\u001b[0m\u001b[0;34m\u001b[0m\u001b[0;34m\u001b[0m\u001b[0m\n",
      "\u001b[0;32m~/.local/lib/python3.6/site-packages/plotly/express/_chart_types.py\u001b[0m in \u001b[0;36m<module>\u001b[0;34m\u001b[0m\n\u001b[0;32m----> 1\u001b[0;31m \u001b[0;32mfrom\u001b[0m \u001b[0;34m.\u001b[0m\u001b[0m_core\u001b[0m \u001b[0;32mimport\u001b[0m \u001b[0mmake_figure\u001b[0m\u001b[0;34m\u001b[0m\u001b[0;34m\u001b[0m\u001b[0m\n\u001b[0m\u001b[1;32m      2\u001b[0m \u001b[0;32mfrom\u001b[0m \u001b[0;34m.\u001b[0m\u001b[0m_doc\u001b[0m \u001b[0;32mimport\u001b[0m \u001b[0mmake_docstring\u001b[0m\u001b[0;34m\u001b[0m\u001b[0;34m\u001b[0m\u001b[0m\n\u001b[1;32m      3\u001b[0m \u001b[0;32mimport\u001b[0m \u001b[0mplotly\u001b[0m\u001b[0;34m.\u001b[0m\u001b[0mgraph_objs\u001b[0m \u001b[0;32mas\u001b[0m \u001b[0mgo\u001b[0m\u001b[0;34m\u001b[0m\u001b[0;34m\u001b[0m\u001b[0m\n\u001b[1;32m      4\u001b[0m \u001b[0;34m\u001b[0m\u001b[0m\n\u001b[1;32m      5\u001b[0m \u001b[0;34m\u001b[0m\u001b[0m\n",
      "\u001b[0;32m~/.local/lib/python3.6/site-packages/plotly/express/_core.py\u001b[0m in \u001b[0;36m<module>\u001b[0;34m\u001b[0m\n\u001b[1;32m      4\u001b[0m \u001b[0;34m\u001b[0m\u001b[0m\n\u001b[1;32m      5\u001b[0m \u001b[0;32mfrom\u001b[0m \u001b[0m_plotly_utils\u001b[0m\u001b[0;34m.\u001b[0m\u001b[0mbasevalidators\u001b[0m \u001b[0;32mimport\u001b[0m \u001b[0mColorscaleValidator\u001b[0m\u001b[0;34m\u001b[0m\u001b[0;34m\u001b[0m\u001b[0m\n\u001b[0;32m----> 6\u001b[0;31m \u001b[0;32mfrom\u001b[0m \u001b[0;34m.\u001b[0m\u001b[0mcolors\u001b[0m \u001b[0;32mimport\u001b[0m \u001b[0mqualitative\u001b[0m\u001b[0;34m,\u001b[0m \u001b[0msequential\u001b[0m\u001b[0;34m\u001b[0m\u001b[0;34m\u001b[0m\u001b[0m\n\u001b[0m\u001b[1;32m      7\u001b[0m \u001b[0;32mimport\u001b[0m \u001b[0mmath\u001b[0m\u001b[0;34m\u001b[0m\u001b[0;34m\u001b[0m\u001b[0m\n\u001b[1;32m      8\u001b[0m \u001b[0;32mimport\u001b[0m \u001b[0mpandas\u001b[0m\u001b[0;34m\u001b[0m\u001b[0;34m\u001b[0m\u001b[0m\n",
      "\u001b[0;31mImportError\u001b[0m: cannot import name 'qualitative'"
     ]
    }
   ],
   "source": [
    "import plotly.express as px\n",
    "iris = px.resultado.iris()\n",
    "fig = px.scatter(iris, x=\"amount\", y=\"charges\")\n",
    "fig.show()"
   ]
  },
  {
   "cell_type": "code",
   "execution_count": 150,
   "metadata": {},
   "outputs": [
    {
     "data": {
      "text/html": [
       "<div>\n",
       "<style scoped>\n",
       "    .dataframe tbody tr th:only-of-type {\n",
       "        vertical-align: middle;\n",
       "    }\n",
       "\n",
       "    .dataframe tbody tr th {\n",
       "        vertical-align: top;\n",
       "    }\n",
       "\n",
       "    .dataframe thead th {\n",
       "        text-align: right;\n",
       "    }\n",
       "</style>\n",
       "<table border=\"1\" class=\"dataframe\">\n",
       "  <thead>\n",
       "    <tr style=\"text-align: right;\">\n",
       "      <th></th>\n",
       "      <th>user_id</th>\n",
       "      <th>min_date</th>\n",
       "    </tr>\n",
       "  </thead>\n",
       "  <tbody>\n",
       "    <tr>\n",
       "      <th>0</th>\n",
       "      <td>aaaas-mmmml-yyyyi</td>\n",
       "      <td>2018-11-23</td>\n",
       "    </tr>\n",
       "    <tr>\n",
       "      <th>1</th>\n",
       "      <td>aaabb-mmmcc-yyyjj</td>\n",
       "      <td>2018-11-21</td>\n",
       "    </tr>\n",
       "    <tr>\n",
       "      <th>2</th>\n",
       "      <td>aaaca-mmmam-yyyhy</td>\n",
       "      <td>2018-11-22</td>\n",
       "    </tr>\n",
       "    <tr>\n",
       "      <th>3</th>\n",
       "      <td>aaaci-mmmag-yyyhx</td>\n",
       "      <td>2018-11-23</td>\n",
       "    </tr>\n",
       "    <tr>\n",
       "      <th>4</th>\n",
       "      <td>aaacn-mmmaj-yyyhk</td>\n",
       "      <td>2018-11-21</td>\n",
       "    </tr>\n",
       "  </tbody>\n",
       "</table>\n",
       "</div>"
      ],
      "text/plain": [
       "             user_id    min_date\n",
       "0  aaaas-mmmml-yyyyi  2018-11-23\n",
       "1  aaabb-mmmcc-yyyjj  2018-11-21\n",
       "2  aaaca-mmmam-yyyhy  2018-11-22\n",
       "3  aaaci-mmmag-yyyhx  2018-11-23\n",
       "4  aaacn-mmmaj-yyyhk  2018-11-21"
      ]
     },
     "execution_count": 150,
     "metadata": {},
     "output_type": "execute_result"
    }
   ],
   "source": [
    "#Calculo la primera fecha de gasto para cada uno de los clientes\n",
    "\n",
    "datemin = pd.pivot_table(data, index = 'user_id', values = 'date', aggfunc = ({'date':min}))\n",
    "datemin = datemin.rename(columns={'date':'min_date'})\n",
    "datemin.reset_index(inplace = True)\n",
    "datemin.head()"
   ]
  },
  {
   "cell_type": "code",
   "execution_count": 151,
   "metadata": {},
   "outputs": [
    {
     "data": {
      "text/html": [
       "<div>\n",
       "<style scoped>\n",
       "    .dataframe tbody tr th:only-of-type {\n",
       "        vertical-align: middle;\n",
       "    }\n",
       "\n",
       "    .dataframe tbody tr th {\n",
       "        vertical-align: top;\n",
       "    }\n",
       "\n",
       "    .dataframe thead th {\n",
       "        text-align: right;\n",
       "    }\n",
       "</style>\n",
       "<table border=\"1\" class=\"dataframe\">\n",
       "  <thead>\n",
       "    <tr style=\"text-align: right;\">\n",
       "      <th></th>\n",
       "      <th>user_id</th>\n",
       "      <th>max_date</th>\n",
       "    </tr>\n",
       "  </thead>\n",
       "  <tbody>\n",
       "    <tr>\n",
       "      <th>0</th>\n",
       "      <td>aaaas-mmmml-yyyyi</td>\n",
       "      <td>2018-11-27</td>\n",
       "    </tr>\n",
       "    <tr>\n",
       "      <th>1</th>\n",
       "      <td>aaabb-mmmcc-yyyjj</td>\n",
       "      <td>2018-11-29</td>\n",
       "    </tr>\n",
       "    <tr>\n",
       "      <th>2</th>\n",
       "      <td>aaaca-mmmam-yyyhy</td>\n",
       "      <td>2018-11-27</td>\n",
       "    </tr>\n",
       "    <tr>\n",
       "      <th>3</th>\n",
       "      <td>aaaci-mmmag-yyyhx</td>\n",
       "      <td>2018-11-26</td>\n",
       "    </tr>\n",
       "    <tr>\n",
       "      <th>4</th>\n",
       "      <td>aaacn-mmmaj-yyyhk</td>\n",
       "      <td>2018-11-27</td>\n",
       "    </tr>\n",
       "  </tbody>\n",
       "</table>\n",
       "</div>"
      ],
      "text/plain": [
       "             user_id    max_date\n",
       "0  aaaas-mmmml-yyyyi  2018-11-27\n",
       "1  aaabb-mmmcc-yyyjj  2018-11-29\n",
       "2  aaaca-mmmam-yyyhy  2018-11-27\n",
       "3  aaaci-mmmag-yyyhx  2018-11-26\n",
       "4  aaacn-mmmaj-yyyhk  2018-11-27"
      ]
     },
     "execution_count": 151,
     "metadata": {},
     "output_type": "execute_result"
    }
   ],
   "source": [
    "#Calculo la última fecha de gasto para cada uno de los clientes\n",
    "\n",
    "datemax = pd.pivot_table(data, index = 'user_id', values = 'date', aggfunc = ({'date':max}))\n",
    "datemax = datemax.rename(columns={'date':'max_date'})\n",
    "datemax.reset_index(inplace = True)\n",
    "datemax.head()"
   ]
  },
  {
   "cell_type": "code",
   "execution_count": 152,
   "metadata": {},
   "outputs": [
    {
     "data": {
      "text/html": [
       "<div>\n",
       "<style scoped>\n",
       "    .dataframe tbody tr th:only-of-type {\n",
       "        vertical-align: middle;\n",
       "    }\n",
       "\n",
       "    .dataframe tbody tr th {\n",
       "        vertical-align: top;\n",
       "    }\n",
       "\n",
       "    .dataframe thead th {\n",
       "        text-align: right;\n",
       "    }\n",
       "</style>\n",
       "<table border=\"1\" class=\"dataframe\">\n",
       "  <thead>\n",
       "    <tr style=\"text-align: right;\">\n",
       "      <th></th>\n",
       "      <th>user_id</th>\n",
       "      <th>amount</th>\n",
       "      <th>charges</th>\n",
       "      <th>min_date</th>\n",
       "      <th>max_date</th>\n",
       "    </tr>\n",
       "  </thead>\n",
       "  <tbody>\n",
       "    <tr>\n",
       "      <th>0</th>\n",
       "      <td>qsqbs-ylycl-titji</td>\n",
       "      <td>125201.750</td>\n",
       "      <td>99</td>\n",
       "      <td>2018-11-22</td>\n",
       "      <td>2018-11-30</td>\n",
       "    </tr>\n",
       "    <tr>\n",
       "      <th>1</th>\n",
       "      <td>bbqij-ccygr-jjtxg</td>\n",
       "      <td>66192.475</td>\n",
       "      <td>30</td>\n",
       "      <td>2018-11-21</td>\n",
       "      <td>2018-12-01</td>\n",
       "    </tr>\n",
       "    <tr>\n",
       "      <th>2</th>\n",
       "      <td>jvjja-rzrrm-gpggy</td>\n",
       "      <td>58521.500</td>\n",
       "      <td>13</td>\n",
       "      <td>2018-11-21</td>\n",
       "      <td>2018-11-30</td>\n",
       "    </tr>\n",
       "    <tr>\n",
       "      <th>3</th>\n",
       "      <td>bcijo-cagru-jhxgq</td>\n",
       "      <td>51673.925</td>\n",
       "      <td>36</td>\n",
       "      <td>2018-11-20</td>\n",
       "      <td>2018-12-01</td>\n",
       "    </tr>\n",
       "    <tr>\n",
       "      <th>4</th>\n",
       "      <td>jicsc-rgala-gxhih</td>\n",
       "      <td>47597.500</td>\n",
       "      <td>4</td>\n",
       "      <td>2018-11-22</td>\n",
       "      <td>2018-11-29</td>\n",
       "    </tr>\n",
       "  </tbody>\n",
       "</table>\n",
       "</div>"
      ],
      "text/plain": [
       "             user_id      amount  charges    min_date    max_date\n",
       "0  qsqbs-ylycl-titji  125201.750       99  2018-11-22  2018-11-30\n",
       "1  bbqij-ccygr-jjtxg   66192.475       30  2018-11-21  2018-12-01\n",
       "2  jvjja-rzrrm-gpggy   58521.500       13  2018-11-21  2018-11-30\n",
       "3  bcijo-cagru-jhxgq   51673.925       36  2018-11-20  2018-12-01\n",
       "4  jicsc-rgala-gxhih   47597.500        4  2018-11-22  2018-11-29"
      ]
     },
     "execution_count": 152,
     "metadata": {},
     "output_type": "execute_result"
    }
   ],
   "source": [
    "#Añado las tablas anteriores a la tabla general\n",
    "fechas = pd.merge(datemin, datemax, on = 'user_id')\n",
    "resultado_final = pd.merge(resultado, fechas, on = 'user_id')\n",
    "resultado_final.head()"
   ]
  },
  {
   "cell_type": "code",
   "execution_count": 153,
   "metadata": {},
   "outputs": [
    {
     "data": {
      "text/html": [
       "<div>\n",
       "<style scoped>\n",
       "    .dataframe tbody tr th:only-of-type {\n",
       "        vertical-align: middle;\n",
       "    }\n",
       "\n",
       "    .dataframe tbody tr th {\n",
       "        vertical-align: top;\n",
       "    }\n",
       "\n",
       "    .dataframe thead th {\n",
       "        text-align: right;\n",
       "    }\n",
       "</style>\n",
       "<table border=\"1\" class=\"dataframe\">\n",
       "  <thead>\n",
       "    <tr style=\"text-align: right;\">\n",
       "      <th></th>\n",
       "      <th>user_id</th>\n",
       "      <th>amount</th>\n",
       "      <th>charges</th>\n",
       "      <th>min_date</th>\n",
       "      <th>max_date</th>\n",
       "      <th>Days between purchases</th>\n",
       "    </tr>\n",
       "  </thead>\n",
       "  <tbody>\n",
       "    <tr>\n",
       "      <th>0</th>\n",
       "      <td>qsqbs-ylycl-titji</td>\n",
       "      <td>125201.750</td>\n",
       "      <td>99</td>\n",
       "      <td>2018-11-22</td>\n",
       "      <td>2018-11-30</td>\n",
       "      <td>9.0</td>\n",
       "    </tr>\n",
       "    <tr>\n",
       "      <th>1</th>\n",
       "      <td>bbqij-ccygr-jjtxg</td>\n",
       "      <td>66192.475</td>\n",
       "      <td>30</td>\n",
       "      <td>2018-11-21</td>\n",
       "      <td>2018-12-01</td>\n",
       "      <td>11.0</td>\n",
       "    </tr>\n",
       "    <tr>\n",
       "      <th>2</th>\n",
       "      <td>jvjja-rzrrm-gpggy</td>\n",
       "      <td>58521.500</td>\n",
       "      <td>13</td>\n",
       "      <td>2018-11-21</td>\n",
       "      <td>2018-11-30</td>\n",
       "      <td>10.0</td>\n",
       "    </tr>\n",
       "    <tr>\n",
       "      <th>3</th>\n",
       "      <td>bcijo-cagru-jhxgq</td>\n",
       "      <td>51673.925</td>\n",
       "      <td>36</td>\n",
       "      <td>2018-11-20</td>\n",
       "      <td>2018-12-01</td>\n",
       "      <td>12.0</td>\n",
       "    </tr>\n",
       "    <tr>\n",
       "      <th>4</th>\n",
       "      <td>jicsc-rgala-gxhih</td>\n",
       "      <td>47597.500</td>\n",
       "      <td>4</td>\n",
       "      <td>2018-11-22</td>\n",
       "      <td>2018-11-29</td>\n",
       "      <td>8.0</td>\n",
       "    </tr>\n",
       "  </tbody>\n",
       "</table>\n",
       "</div>"
      ],
      "text/plain": [
       "             user_id      amount  charges    min_date    max_date  \\\n",
       "0  qsqbs-ylycl-titji  125201.750       99  2018-11-22  2018-11-30   \n",
       "1  bbqij-ccygr-jjtxg   66192.475       30  2018-11-21  2018-12-01   \n",
       "2  jvjja-rzrrm-gpggy   58521.500       13  2018-11-21  2018-11-30   \n",
       "3  bcijo-cagru-jhxgq   51673.925       36  2018-11-20  2018-12-01   \n",
       "4  jicsc-rgala-gxhih   47597.500        4  2018-11-22  2018-11-29   \n",
       "\n",
       "   Days between purchases  \n",
       "0                     9.0  \n",
       "1                    11.0  \n",
       "2                    10.0  \n",
       "3                    12.0  \n",
       "4                     8.0  "
      ]
     },
     "execution_count": 153,
     "metadata": {},
     "output_type": "execute_result"
    }
   ],
   "source": [
    "'''\n",
    "Cálculo el periodo de actividad para cada uno de los clientes (Última fecha gasto - Primera fecha gasto)\n",
    "'''\n",
    "resultado_final['Days between purchases'] = resultado_final['max_date'] - resultado_final['min_date'] \n",
    "resultado_final['Days between purchases']=resultado_final['Days between purchases']/np.timedelta64(1,'D')\n",
    "resultado_final['Days between purchases'] = resultado_final['Days between purchases'] + 1\n",
    "resultado_final.head()"
   ]
  },
  {
   "cell_type": "code",
   "execution_count": 154,
   "metadata": {},
   "outputs": [
    {
     "data": {
      "text/html": [
       "<div>\n",
       "<style scoped>\n",
       "    .dataframe tbody tr th:only-of-type {\n",
       "        vertical-align: middle;\n",
       "    }\n",
       "\n",
       "    .dataframe tbody tr th {\n",
       "        vertical-align: top;\n",
       "    }\n",
       "\n",
       "    .dataframe thead th {\n",
       "        text-align: right;\n",
       "    }\n",
       "</style>\n",
       "<table border=\"1\" class=\"dataframe\">\n",
       "  <thead>\n",
       "    <tr style=\"text-align: right;\">\n",
       "      <th></th>\n",
       "      <th>user_id</th>\n",
       "      <th>amount</th>\n",
       "      <th>charges</th>\n",
       "      <th>min_date</th>\n",
       "      <th>max_date</th>\n",
       "      <th>Days between purchases</th>\n",
       "      <th>Mean_by_charges(€)</th>\n",
       "      <th>Mean_daily_charge</th>\n",
       "    </tr>\n",
       "  </thead>\n",
       "  <tbody>\n",
       "    <tr>\n",
       "      <th>0</th>\n",
       "      <td>qsqbs-ylycl-titji</td>\n",
       "      <td>125201.750</td>\n",
       "      <td>99</td>\n",
       "      <td>2018-11-22</td>\n",
       "      <td>2018-11-30</td>\n",
       "      <td>9.0</td>\n",
       "      <td>1264.664141</td>\n",
       "      <td>11.000000</td>\n",
       "    </tr>\n",
       "    <tr>\n",
       "      <th>1</th>\n",
       "      <td>bbqij-ccygr-jjtxg</td>\n",
       "      <td>66192.475</td>\n",
       "      <td>30</td>\n",
       "      <td>2018-11-21</td>\n",
       "      <td>2018-12-01</td>\n",
       "      <td>11.0</td>\n",
       "      <td>2206.415833</td>\n",
       "      <td>2.727273</td>\n",
       "    </tr>\n",
       "    <tr>\n",
       "      <th>2</th>\n",
       "      <td>jvjja-rzrrm-gpggy</td>\n",
       "      <td>58521.500</td>\n",
       "      <td>13</td>\n",
       "      <td>2018-11-21</td>\n",
       "      <td>2018-11-30</td>\n",
       "      <td>10.0</td>\n",
       "      <td>4501.653846</td>\n",
       "      <td>1.300000</td>\n",
       "    </tr>\n",
       "    <tr>\n",
       "      <th>3</th>\n",
       "      <td>bcijo-cagru-jhxgq</td>\n",
       "      <td>51673.925</td>\n",
       "      <td>36</td>\n",
       "      <td>2018-11-20</td>\n",
       "      <td>2018-12-01</td>\n",
       "      <td>12.0</td>\n",
       "      <td>1435.386806</td>\n",
       "      <td>3.000000</td>\n",
       "    </tr>\n",
       "    <tr>\n",
       "      <th>4</th>\n",
       "      <td>jicsc-rgala-gxhih</td>\n",
       "      <td>47597.500</td>\n",
       "      <td>4</td>\n",
       "      <td>2018-11-22</td>\n",
       "      <td>2018-11-29</td>\n",
       "      <td>8.0</td>\n",
       "      <td>11899.375000</td>\n",
       "      <td>0.500000</td>\n",
       "    </tr>\n",
       "  </tbody>\n",
       "</table>\n",
       "</div>"
      ],
      "text/plain": [
       "             user_id      amount  charges    min_date    max_date  \\\n",
       "0  qsqbs-ylycl-titji  125201.750       99  2018-11-22  2018-11-30   \n",
       "1  bbqij-ccygr-jjtxg   66192.475       30  2018-11-21  2018-12-01   \n",
       "2  jvjja-rzrrm-gpggy   58521.500       13  2018-11-21  2018-11-30   \n",
       "3  bcijo-cagru-jhxgq   51673.925       36  2018-11-20  2018-12-01   \n",
       "4  jicsc-rgala-gxhih   47597.500        4  2018-11-22  2018-11-29   \n",
       "\n",
       "   Days between purchases  Mean_by_charges(€)  Mean_daily_charge  \n",
       "0                     9.0         1264.664141          11.000000  \n",
       "1                    11.0         2206.415833           2.727273  \n",
       "2                    10.0         4501.653846           1.300000  \n",
       "3                    12.0         1435.386806           3.000000  \n",
       "4                     8.0        11899.375000           0.500000  "
      ]
     },
     "execution_count": 154,
     "metadata": {},
     "output_type": "execute_result"
    }
   ],
   "source": [
    "#Para cada cliente calculo la media de 'gastos en función del nº gastos' y la 'media del número de gastos diarios'\n",
    "resultado_final['Mean_by_charges(€)'] = resultado_final['amount']/resultado_final['charges']\n",
    "resultado_final['Mean_daily_charge'] = resultado_final['charges']/resultado_final['Days between purchases']\n",
    "resultado_final.head()"
   ]
  },
  {
   "cell_type": "code",
   "execution_count": 155,
   "metadata": {},
   "outputs": [
    {
     "name": "stdout",
     "output_type": "stream",
     "text": [
      "[[1.         0.00812085]\n",
      " [0.00812085 1.        ]]\n"
     ]
    },
    {
     "data": {
      "image/png": "[encoded data removed]",
      "text/plain": [
       "<Figure size 432x288 with 1 Axes>"
      ]
     },
     "metadata": {},
     "output_type": "display_data"
    }
   ],
   "source": [
    "#Veo la correlación entre las variables 'gastos en función del nº gastos' y la 'media del número de gastos diarios'\n",
    "plt.scatter(resultado_final['Mean_by_charges(€)'],resultado_final['Mean_daily_charge'])\n",
    "print(np.corrcoef(resultado_final['Mean_by_charges(€)'], resultado_final['Mean_daily_charge']))\n",
    "\n",
    "#La correlación es muy baja por lo que las variables son independientes y se podemos usarlas para calcular los clusters"
   ]
  },
  {
   "cell_type": "markdown",
   "metadata": {},
   "source": [
    "Como tienen una correlación muy baja, voy a utilizar dichas variables para clusterizar a los cliente"
   ]
  },
  {
   "cell_type": "code",
   "execution_count": 156,
   "metadata": {},
   "outputs": [],
   "source": [
    "#Creo una variable que contenga la matriz de los valores.\n",
    "\n",
    "X = resultado_final.iloc[:, [6, 7]].values"
   ]
  },
  {
   "cell_type": "code",
   "execution_count": 157,
   "metadata": {},
   "outputs": [
    {
     "data": {
      "image/png": "[encoded data removed]",
      "text/plain": [
       "<Figure size 432x288 with 1 Axes>"
      ]
     },
     "metadata": {},
     "output_type": "display_data"
    }
   ],
   "source": [
    "# Utilizo el 'Elbow method'  para seleccionar el número óptimo de clusters.\n",
    "'''\n",
    "Este método emplea la suma de las distancias al cuadrado de cada objeto del Cluster a su centroide.\n",
    "De esta manera determina cual es el número óptimo de centroides.\n",
    "EL resultado es una muestra lineal cuyo 'codo' nos indica el nº de clusters óptimos para la muestra.\n",
    "wcss = Within Clusters Summed Squares\n",
    "'''\n",
    "\n",
    "wcss = []\n",
    "for i in range(1, 11):\n",
    "    kmeans = KMeans(n_clusters = i, init = 'k-means++', random_state = 42)\n",
    "    kmeans.fit(X)\n",
    "    wcss.append(kmeans.inertia_)\n",
    "\n",
    "# Grafica de la suma de las distancias\n",
    "plt.plot(range(1, 11), wcss)\n",
    "plt.title('The Elbow Method')\n",
    "plt.xlabel('Number of clusters')\n",
    "plt.ylabel('WCSS')\n",
    "plt.show()"
   ]
  },
  {
   "cell_type": "markdown",
   "metadata": {},
   "source": [
    "Esta gráfica nos indica que el número óptimo de clusters es 3."
   ]
  },
  {
   "cell_type": "code",
   "execution_count": 158,
   "metadata": {},
   "outputs": [],
   "source": [
    "# Creando el algoritmo k-Means para los 3 grupos encontrados\n",
    "kmeans = KMeans(n_clusters = 3, init = 'k-means++', random_state = 42)\n",
    "y_kmeans = kmeans.fit_predict(X)"
   ]
  },
  {
   "cell_type": "code",
   "execution_count": 159,
   "metadata": {},
   "outputs": [
    {
     "data": {
      "image/png": "[encoded data removed]",
      "text/plain": [
       "<Figure size 432x288 with 1 Axes>"
      ]
     },
     "metadata": {},
     "output_type": "display_data"
    }
   ],
   "source": [
    "# Visualizacion gráfica de los clusters\n",
    "plt.scatter(X[y_kmeans == 0, 0], X[y_kmeans == 0, 1], s = 100, c = 'red', label = 'Cluster 1')\n",
    "plt.scatter(X[y_kmeans == 1, 0], X[y_kmeans == 1, 1], s = 100, c = 'blue', label = 'Cluster 2')\n",
    "plt.scatter(X[y_kmeans == 2, 0], X[y_kmeans == 2, 1], s = 100, c = 'green', label = 'Cluster 3')\n",
    "\n",
    "\n",
    "plt.scatter(kmeans.cluster_centers_[:, 0], kmeans.cluster_centers_[:, 1], s = 300, c = 'yellow', label = 'Centroids')\n",
    "\n",
    "plt.title('Clusters of customers')\n",
    "plt.xlabel('Mean of charges')\n",
    "plt.ylabel('Expense frequency')\n",
    "plt.legend()\n",
    "plt.show()"
   ]
  },
  {
   "cell_type": "markdown",
   "metadata": {},
   "source": [
    "Como podemos ver en el gráfico, hemos clasificado a los clientes en 3 clusters distintos, donde el punto amarillo indica el centroide de cada uno de ellos.\n",
    "\n",
    "- El cluster nº 1 nos agrupa aquellos clientes que realizan muchas compras diarias pero de pequeños importes. Si    observamos la gráfica, la cantidad gastada de este cluster va de 0€ hasta los 500 €, sin embargo la mayoría de los valores están más próximos al 0 que al 500. Además los clientes de este clúster puede realizar hasta 9 compras diarias.  lo que supone una gran parte de los clientes de Bnext.\n",
    "\n",
    "- El cluster nº2 es el más importante. Es el clúster más numeroso y representa a todos los clientes que realizan varias compras diarias cuya cantidad siempre es igual o superior a los 500€. Este cluster es de suma importancia ya que representa a la gran parte de clientes de Bnext. Observamos que la mayoria de los clientes realizan entre 0 y 3 compras diarias con cantidades que oscilan entre los 500 y 1200€. \n",
    "\n",
    "- El cluster nº3 es el más reducido. Se trata de aquellos clientes que realizan entre 0 y 2 compras diarias pero gastan cantidades muy altas de dinero. "
   ]
  },
  {
   "cell_type": "markdown",
   "metadata": {},
   "source": [
    "# Pregunta nº 2"
   ]
  },
  {
   "cell_type": "markdown",
   "metadata": {},
   "source": [
    "PREGUNTA 2: Te pregunta el CEO que no entiende la evolución de los datos en el periodo escogido, que le parece algo anómala. ¿Encuentras algún patrón que permita encontrar outliers? Esta es una pregunta abierta, puedes analizar los datos de la manera que quieras."
   ]
  },
  {
   "cell_type": "code",
   "execution_count": 160,
   "metadata": {},
   "outputs": [],
   "source": [
    "#Primero analizamos la evolución de las compras\n",
    "purchases = data[data.category == 'Purchase']"
   ]
  },
  {
   "cell_type": "code",
   "execution_count": 161,
   "metadata": {},
   "outputs": [
    {
     "data": {
      "text/html": [
       "<div>\n",
       "<style scoped>\n",
       "    .dataframe tbody tr th:only-of-type {\n",
       "        vertical-align: middle;\n",
       "    }\n",
       "\n",
       "    .dataframe tbody tr th {\n",
       "        vertical-align: top;\n",
       "    }\n",
       "\n",
       "    .dataframe thead th {\n",
       "        text-align: right;\n",
       "    }\n",
       "</style>\n",
       "<table border=\"1\" class=\"dataframe\">\n",
       "  <thead>\n",
       "    <tr style=\"text-align: right;\">\n",
       "      <th></th>\n",
       "      <th>date</th>\n",
       "      <th>amount</th>\n",
       "    </tr>\n",
       "  </thead>\n",
       "  <tbody>\n",
       "    <tr>\n",
       "      <th>0</th>\n",
       "      <td>2018-11-20</td>\n",
       "      <td>317942.850</td>\n",
       "    </tr>\n",
       "    <tr>\n",
       "      <th>1</th>\n",
       "      <td>2018-11-21</td>\n",
       "      <td>367355.200</td>\n",
       "    </tr>\n",
       "    <tr>\n",
       "      <th>2</th>\n",
       "      <td>2018-11-22</td>\n",
       "      <td>445351.925</td>\n",
       "    </tr>\n",
       "    <tr>\n",
       "      <th>3</th>\n",
       "      <td>2018-11-23</td>\n",
       "      <td>1470355.275</td>\n",
       "    </tr>\n",
       "    <tr>\n",
       "      <th>4</th>\n",
       "      <td>2018-11-24</td>\n",
       "      <td>588330.775</td>\n",
       "    </tr>\n",
       "  </tbody>\n",
       "</table>\n",
       "</div>"
      ],
      "text/plain": [
       "         date       amount\n",
       "0  2018-11-20   317942.850\n",
       "1  2018-11-21   367355.200\n",
       "2  2018-11-22   445351.925\n",
       "3  2018-11-23  1470355.275\n",
       "4  2018-11-24   588330.775"
      ]
     },
     "execution_count": 161,
     "metadata": {},
     "output_type": "execute_result"
    }
   ],
   "source": [
    "# Agrupamos las cantidades compradas por fechas\n",
    "purchases = pd.pivot_table(purchases, index = ['date'], values = 'amount', aggfunc = ({'amount': 'sum'})) \n",
    "purchases.reset_index(inplace = True)\n",
    "purchases.head()"
   ]
  },
  {
   "cell_type": "code",
   "execution_count": 162,
   "metadata": {},
   "outputs": [
    {
     "data": {
      "application/vnd.plotly.v1+json": {
       "config": {
        "linkText": "Export to plot.ly",
        "plotlyServerURL": "https://plot.ly",
        "showLink": true
       },
       "data": [
        {
         "line": {
          "color": "rgba(55, 128, 191, 1.0)",
          "dash": "solid",
          "shape": "linear",
          "width": 1.3
         },
         "mode": "lines",
         "name": "amount",
         "text": "",
         "type": "scatter",
         "uid": "b10f67d8-bdf3-43ae-977d-126d0bd0367b",
         "x": [
          "2018-11-20",
          "2018-11-21",
          "2018-11-22",
          "2018-11-23",
          "2018-11-24",
          "2018-11-25",
          "2018-11-26",
          "2018-11-27",
          "2018-11-28",
          "2018-11-29",
          "2018-11-30",
          "2018-12-01"
         ],
         "y": [
          317942.85000000056,
          367355.1999999984,
          445351.9249999958,
          1470355.2750000302,
          588330.7749999878,
          408996.6499999955,
          482462.24999999296,
          377132.6249999975,
          416700.3749999959,
          435487.2499999955,
          399670.774999995,
          38641.049999999974
         ]
        }
       ],
       "layout": {
        "legend": {
         "bgcolor": "#F5F6F9",
         "font": {
          "color": "#4D5663"
         }
        },
        "paper_bgcolor": "#F5F6F9",
        "plot_bgcolor": "#F5F6F9",
        "title": {
         "font": {
          "color": "#4D5663"
         },
         "text": "Purchases Evolution"
        },
        "xaxis": {
         "gridcolor": "#E1E5ED",
         "showgrid": true,
         "tickfont": {
          "color": "#4D5663"
         },
         "title": {
          "font": {
           "color": "#4D5663"
          },
          "text": "Time"
         },
         "zerolinecolor": "#E1E5ED"
        },
        "yaxis": {
         "gridcolor": "#E1E5ED",
         "showgrid": true,
         "tickfont": {
          "color": "#4D5663"
         },
         "title": {
          "font": {
           "color": "#4D5663"
          },
          "text": "purchases"
         },
         "zerolinecolor": "#E1E5ED"
        }
       }
      },
      "text/html": [
       "<div>\n",
       "        \n",
       "        \n",
       "            <div id=\"7d0a250d-ea6b-4aca-8a42-23e04bdedce6\" class=\"plotly-graph-div\" style=\"height:525px; width:100%;\"></div>\n",
       "            <script type=\"text/javascript\">\n",
       "                require([\"plotly\"], function(Plotly) {\n",
       "                    window.PLOTLYENV=window.PLOTLYENV || {};\n",
       "                    window.PLOTLYENV.BASE_URL='https://plot.ly';\n",
       "                    \n",
       "                if (document.getElementById(\"7d0a250d-ea6b-4aca-8a42-23e04bdedce6\")) {\n",
       "                    Plotly.newPlot(\n",
       "                        '7d0a250d-ea6b-4aca-8a42-23e04bdedce6',\n",
       "                        [{\"line\": {\"color\": \"rgba(55, 128, 191, 1.0)\", \"dash\": \"solid\", \"shape\": \"linear\", \"width\": 1.3}, \"mode\": \"lines\", \"name\": \"amount\", \"text\": \"\", \"type\": \"scatter\", \"uid\": \"b10f67d8-bdf3-43ae-977d-126d0bd0367b\", \"x\": [\"2018-11-20\", \"2018-11-21\", \"2018-11-22\", \"2018-11-23\", \"2018-11-24\", \"2018-11-25\", \"2018-11-26\", \"2018-11-27\", \"2018-11-28\", \"2018-11-29\", \"2018-11-30\", \"2018-12-01\"], \"y\": [317942.85000000056, 367355.1999999984, 445351.9249999958, 1470355.2750000302, 588330.7749999878, 408996.6499999955, 482462.24999999296, 377132.6249999975, 416700.3749999959, 435487.2499999955, 399670.774999995, 38641.049999999974]}],\n",
       "                        {\"legend\": {\"bgcolor\": \"#F5F6F9\", \"font\": {\"color\": \"#4D5663\"}}, \"paper_bgcolor\": \"#F5F6F9\", \"plot_bgcolor\": \"#F5F6F9\", \"title\": {\"font\": {\"color\": \"#4D5663\"}, \"text\": \"Purchases Evolution\"}, \"xaxis\": {\"gridcolor\": \"#E1E5ED\", \"showgrid\": true, \"tickfont\": {\"color\": \"#4D5663\"}, \"title\": {\"font\": {\"color\": \"#4D5663\"}, \"text\": \"Time\"}, \"zerolinecolor\": \"#E1E5ED\"}, \"yaxis\": {\"gridcolor\": \"#E1E5ED\", \"showgrid\": true, \"tickfont\": {\"color\": \"#4D5663\"}, \"title\": {\"font\": {\"color\": \"#4D5663\"}, \"text\": \"purchases\"}, \"zerolinecolor\": \"#E1E5ED\"}},\n",
       "                        {\"showLink\": true, \"linkText\": \"Export to plot.ly\", \"plotlyServerURL\": \"https://plot.ly\", \"responsive\": true}\n",
       "                    ).then(function(){\n",
       "                            \n",
       "var gd = document.getElementById('7d0a250d-ea6b-4aca-8a42-23e04bdedce6');\n",
       "var x = new MutationObserver(function (mutations, observer) {{\n",
       "        var display = window.getComputedStyle(gd).display;\n",
       "        if (!display || display === 'none') {{\n",
       "            console.log([gd, 'removed!']);\n",
       "            Plotly.purge(gd);\n",
       "            observer.disconnect();\n",
       "        }}\n",
       "}});\n",
       "\n",
       "// Listen for the removal of the full notebook cells\n",
       "var notebookContainer = gd.closest('#notebook-container');\n",
       "if (notebookContainer) {{\n",
       "    x.observe(notebookContainer, {childList: true});\n",
       "}}\n",
       "\n",
       "// Listen for the clearing of the current output cell\n",
       "var outputEl = gd.closest('.output');\n",
       "if (outputEl) {{\n",
       "    x.observe(outputEl, {childList: true});\n",
       "}}\n",
       "\n",
       "                        })\n",
       "                };\n",
       "                });\n",
       "            </script>\n",
       "        </div>"
      ]
     },
     "metadata": {},
     "output_type": "display_data"
    }
   ],
   "source": [
    "#Visualizamos la evolución de las compras en el tiempo.\n",
    "purchases.iplot(kind='line', x='date', xTitle='Time', color='blue',\n",
    "           yTitle='purchases', title='Purchases Evolution')"
   ]
  },
  {
   "cell_type": "markdown",
   "metadata": {},
   "source": [
    "En esta gráfica observamos como el 23 de noviembre hay un pico muy alto que sobresale por encima de la evolución normal de los gastos (!Casi alcanza el millón y medio de compras¡). Esto se debe a que el 23/11/2018 fué el Black Friday, y como todos sabemos es el día de más consumo en el año. Además, el Black Friday es un día donde las compras online son mucho mayores, lo que favorece al perfil de cliente de Bnext, que por lo que tengo entendido, muchos de ellos se caracterizan por utilizar su tarjeta Bnext para compras online.\n",
    "También podemos apreciar una caída de las compras entre el 30/11 y el 01/12 que se debe a la falta de datos para el primer día de enero, ya que solo disponemos de datos hasta las 8 de la mañana.\n"
   ]
  },
  {
   "cell_type": "code",
   "execution_count": 163,
   "metadata": {},
   "outputs": [],
   "source": [
    "#Analizamos la evolución de los ingresos\n",
    "income = data[data.category == 'Topup TPV']"
   ]
  },
  {
   "cell_type": "code",
   "execution_count": 164,
   "metadata": {},
   "outputs": [
    {
     "data": {
      "text/html": [
       "<div>\n",
       "<style scoped>\n",
       "    .dataframe tbody tr th:only-of-type {\n",
       "        vertical-align: middle;\n",
       "    }\n",
       "\n",
       "    .dataframe tbody tr th {\n",
       "        vertical-align: top;\n",
       "    }\n",
       "\n",
       "    .dataframe thead th {\n",
       "        text-align: right;\n",
       "    }\n",
       "</style>\n",
       "<table border=\"1\" class=\"dataframe\">\n",
       "  <thead>\n",
       "    <tr style=\"text-align: right;\">\n",
       "      <th></th>\n",
       "      <th>date</th>\n",
       "      <th>amount</th>\n",
       "    </tr>\n",
       "  </thead>\n",
       "  <tbody>\n",
       "    <tr>\n",
       "      <th>0</th>\n",
       "      <td>2018-11-20</td>\n",
       "      <td>645554.375</td>\n",
       "    </tr>\n",
       "    <tr>\n",
       "      <th>1</th>\n",
       "      <td>2018-11-21</td>\n",
       "      <td>787869.775</td>\n",
       "    </tr>\n",
       "    <tr>\n",
       "      <th>2</th>\n",
       "      <td>2018-11-22</td>\n",
       "      <td>1000562.775</td>\n",
       "    </tr>\n",
       "    <tr>\n",
       "      <th>3</th>\n",
       "      <td>2018-11-23</td>\n",
       "      <td>1806325.350</td>\n",
       "    </tr>\n",
       "    <tr>\n",
       "      <th>4</th>\n",
       "      <td>2018-11-24</td>\n",
       "      <td>859111.750</td>\n",
       "    </tr>\n",
       "  </tbody>\n",
       "</table>\n",
       "</div>"
      ],
      "text/plain": [
       "         date       amount\n",
       "0  2018-11-20   645554.375\n",
       "1  2018-11-21   787869.775\n",
       "2  2018-11-22  1000562.775\n",
       "3  2018-11-23  1806325.350\n",
       "4  2018-11-24   859111.750"
      ]
     },
     "execution_count": 164,
     "metadata": {},
     "output_type": "execute_result"
    }
   ],
   "source": [
    "# Agrupamos las cantidades ingresadas por fechas\n",
    "income = pd.pivot_table(income, index = ['date'], values = 'amount', aggfunc = ({'amount': 'sum'})) \n",
    "income.reset_index(inplace = True)\n",
    "income.head()"
   ]
  },
  {
   "cell_type": "code",
   "execution_count": 165,
   "metadata": {},
   "outputs": [
    {
     "data": {
      "application/vnd.plotly.v1+json": {
       "config": {
        "linkText": "Export to plot.ly",
        "plotlyServerURL": "https://plot.ly",
        "showLink": true
       },
       "data": [
        {
         "line": {
          "color": "rgba(55, 128, 191, 1.0)",
          "dash": "solid",
          "shape": "linear",
          "width": 1.3
         },
         "mode": "lines",
         "name": "amount",
         "text": "",
         "type": "scatter",
         "uid": "5a885c0b-1b58-49a4-aac9-ba6242104552",
         "x": [
          "2018-11-20",
          "2018-11-21",
          "2018-11-22",
          "2018-11-23",
          "2018-11-24",
          "2018-11-25",
          "2018-11-26",
          "2018-11-27",
          "2018-11-28",
          "2018-11-29",
          "2018-11-30",
          "2018-12-01"
         ],
         "y": [
          645554.3749999997,
          787869.7749999998,
          1000562.7750000001,
          1806325.3500000003,
          859111.7500000001,
          722850.2999999999,
          793488.25,
          860243.4500000001,
          981437.3500000002,
          1006973.8750000002,
          1122682.6,
          98042.57500000001
         ]
        }
       ],
       "layout": {
        "legend": {
         "bgcolor": "#F5F6F9",
         "font": {
          "color": "#4D5663"
         }
        },
        "paper_bgcolor": "#F5F6F9",
        "plot_bgcolor": "#F5F6F9",
        "title": {
         "font": {
          "color": "#4D5663"
         },
         "text": "Income Evolution"
        },
        "xaxis": {
         "gridcolor": "#E1E5ED",
         "showgrid": true,
         "tickfont": {
          "color": "#4D5663"
         },
         "title": {
          "font": {
           "color": "#4D5663"
          },
          "text": "Time"
         },
         "zerolinecolor": "#E1E5ED"
        },
        "yaxis": {
         "gridcolor": "#E1E5ED",
         "showgrid": true,
         "tickfont": {
          "color": "#4D5663"
         },
         "title": {
          "font": {
           "color": "#4D5663"
          },
          "text": "Income"
         },
         "zerolinecolor": "#E1E5ED"
        }
       }
      },
      "text/html": [
       "<div>\n",
       "        \n",
       "        \n",
       "            <div id=\"8da7dc94-b702-497a-b153-a3b7a45d9501\" class=\"plotly-graph-div\" style=\"height:525px; width:100%;\"></div>\n",
       "            <script type=\"text/javascript\">\n",
       "                require([\"plotly\"], function(Plotly) {\n",
       "                    window.PLOTLYENV=window.PLOTLYENV || {};\n",
       "                    window.PLOTLYENV.BASE_URL='https://plot.ly';\n",
       "                    \n",
       "                if (document.getElementById(\"8da7dc94-b702-497a-b153-a3b7a45d9501\")) {\n",
       "                    Plotly.newPlot(\n",
       "                        '8da7dc94-b702-497a-b153-a3b7a45d9501',\n",
       "                        [{\"line\": {\"color\": \"rgba(55, 128, 191, 1.0)\", \"dash\": \"solid\", \"shape\": \"linear\", \"width\": 1.3}, \"mode\": \"lines\", \"name\": \"amount\", \"text\": \"\", \"type\": \"scatter\", \"uid\": \"5a885c0b-1b58-49a4-aac9-ba6242104552\", \"x\": [\"2018-11-20\", \"2018-11-21\", \"2018-11-22\", \"2018-11-23\", \"2018-11-24\", \"2018-11-25\", \"2018-11-26\", \"2018-11-27\", \"2018-11-28\", \"2018-11-29\", \"2018-11-30\", \"2018-12-01\"], \"y\": [645554.3749999997, 787869.7749999998, 1000562.7750000001, 1806325.3500000003, 859111.7500000001, 722850.2999999999, 793488.25, 860243.4500000001, 981437.3500000002, 1006973.8750000002, 1122682.6, 98042.57500000001]}],\n",
       "                        {\"legend\": {\"bgcolor\": \"#F5F6F9\", \"font\": {\"color\": \"#4D5663\"}}, \"paper_bgcolor\": \"#F5F6F9\", \"plot_bgcolor\": \"#F5F6F9\", \"title\": {\"font\": {\"color\": \"#4D5663\"}, \"text\": \"Income Evolution\"}, \"xaxis\": {\"gridcolor\": \"#E1E5ED\", \"showgrid\": true, \"tickfont\": {\"color\": \"#4D5663\"}, \"title\": {\"font\": {\"color\": \"#4D5663\"}, \"text\": \"Time\"}, \"zerolinecolor\": \"#E1E5ED\"}, \"yaxis\": {\"gridcolor\": \"#E1E5ED\", \"showgrid\": true, \"tickfont\": {\"color\": \"#4D5663\"}, \"title\": {\"font\": {\"color\": \"#4D5663\"}, \"text\": \"Income\"}, \"zerolinecolor\": \"#E1E5ED\"}},\n",
       "                        {\"showLink\": true, \"linkText\": \"Export to plot.ly\", \"plotlyServerURL\": \"https://plot.ly\", \"responsive\": true}\n",
       "                    ).then(function(){\n",
       "                            \n",
       "var gd = document.getElementById('8da7dc94-b702-497a-b153-a3b7a45d9501');\n",
       "var x = new MutationObserver(function (mutations, observer) {{\n",
       "        var display = window.getComputedStyle(gd).display;\n",
       "        if (!display || display === 'none') {{\n",
       "            console.log([gd, 'removed!']);\n",
       "            Plotly.purge(gd);\n",
       "            observer.disconnect();\n",
       "        }}\n",
       "}});\n",
       "\n",
       "// Listen for the removal of the full notebook cells\n",
       "var notebookContainer = gd.closest('#notebook-container');\n",
       "if (notebookContainer) {{\n",
       "    x.observe(notebookContainer, {childList: true});\n",
       "}}\n",
       "\n",
       "// Listen for the clearing of the current output cell\n",
       "var outputEl = gd.closest('.output');\n",
       "if (outputEl) {{\n",
       "    x.observe(outputEl, {childList: true});\n",
       "}}\n",
       "\n",
       "                        })\n",
       "                };\n",
       "                });\n",
       "            </script>\n",
       "        </div>"
      ]
     },
     "metadata": {},
     "output_type": "display_data"
    }
   ],
   "source": [
    "#Visualizamos la evolución de los ingresos en el tiempo.\n",
    "income.iplot(kind='line', x='date', xTitle='Time', color='blue',\n",
    "           yTitle='Income', title='Income Evolution')"
   ]
  },
  {
   "cell_type": "markdown",
   "metadata": {},
   "source": [
    "En esta gráfica que representa la evolución de los ingresos, vemos como existe un pico muy parecido al de los gastos el día del Black Friday. Este outlier es muy probable que sea gracias a las promociones disponibles en el marketplace de Bnext, las cuales incitan a que el cliente ingrese dinero en la cuenta Bnext para aprovechar los descuentos/promociones disponibles de vuestros partners.\n",
    "También observamos como a final de mes la evolución de los ingresos va creciendo. La justificación más lógica es que esas fechas coinciden con el periodo en el que los clientes cobran su sueldo. \n",
    "Sin embargo vemos como entre el día 30/11/2018 y el día 1/12/2018 los ingresos se desploman, pero esto no es significativo ya que del primer día de diciembre solo tenemos datos hasta las 8 de las mañana. De hecho me aventuraría a decir, que si tuviesemos los datos de los primeros días de enero podríamos ver como la evolución sigue siendo positiva por lo menos hasta el día 10/01(sigue siendo periodo de pago de salarios). "
   ]
  },
  {
   "cell_type": "code",
   "execution_count": 166,
   "metadata": {},
   "outputs": [],
   "source": [
    "#Analizamos la evolución de los ingresos\n",
    "transfers = data[data.category == 'Bnext Send Money']"
   ]
  },
  {
   "cell_type": "code",
   "execution_count": 167,
   "metadata": {},
   "outputs": [
    {
     "data": {
      "text/html": [
       "<div>\n",
       "<style scoped>\n",
       "    .dataframe tbody tr th:only-of-type {\n",
       "        vertical-align: middle;\n",
       "    }\n",
       "\n",
       "    .dataframe tbody tr th {\n",
       "        vertical-align: top;\n",
       "    }\n",
       "\n",
       "    .dataframe thead th {\n",
       "        text-align: right;\n",
       "    }\n",
       "</style>\n",
       "<table border=\"1\" class=\"dataframe\">\n",
       "  <thead>\n",
       "    <tr style=\"text-align: right;\">\n",
       "      <th></th>\n",
       "      <th>date</th>\n",
       "      <th>amount</th>\n",
       "    </tr>\n",
       "  </thead>\n",
       "  <tbody>\n",
       "    <tr>\n",
       "      <th>0</th>\n",
       "      <td>2018-11-20</td>\n",
       "      <td>119722.375</td>\n",
       "    </tr>\n",
       "    <tr>\n",
       "      <th>1</th>\n",
       "      <td>2018-11-21</td>\n",
       "      <td>141931.050</td>\n",
       "    </tr>\n",
       "    <tr>\n",
       "      <th>2</th>\n",
       "      <td>2018-11-22</td>\n",
       "      <td>252498.975</td>\n",
       "    </tr>\n",
       "    <tr>\n",
       "      <th>3</th>\n",
       "      <td>2018-11-23</td>\n",
       "      <td>241472.150</td>\n",
       "    </tr>\n",
       "    <tr>\n",
       "      <th>4</th>\n",
       "      <td>2018-11-24</td>\n",
       "      <td>192534.425</td>\n",
       "    </tr>\n",
       "  </tbody>\n",
       "</table>\n",
       "</div>"
      ],
      "text/plain": [
       "         date      amount\n",
       "0  2018-11-20  119722.375\n",
       "1  2018-11-21  141931.050\n",
       "2  2018-11-22  252498.975\n",
       "3  2018-11-23  241472.150\n",
       "4  2018-11-24  192534.425"
      ]
     },
     "execution_count": 167,
     "metadata": {},
     "output_type": "execute_result"
    }
   ],
   "source": [
    "# Agrupamos las cantidades transpasadas por fechas\n",
    "transfers = pd.pivot_table(transfers, index = ['date'], values = 'amount', aggfunc = ({'amount': 'sum'})) \n",
    "transfers.reset_index(inplace = True)\n",
    "transfers.head()"
   ]
  },
  {
   "cell_type": "code",
   "execution_count": 168,
   "metadata": {},
   "outputs": [
    {
     "data": {
      "application/vnd.plotly.v1+json": {
       "config": {
        "linkText": "Export to plot.ly",
        "plotlyServerURL": "https://plot.ly",
        "showLink": true
       },
       "data": [
        {
         "line": {
          "color": "rgba(55, 128, 191, 1.0)",
          "dash": "solid",
          "shape": "linear",
          "width": 1.3
         },
         "mode": "lines",
         "name": "amount",
         "text": "",
         "type": "scatter",
         "uid": "ccf09e27-6706-4370-a9a2-fd13e3bf596f",
         "x": [
          "2018-11-20",
          "2018-11-21",
          "2018-11-22",
          "2018-11-23",
          "2018-11-24",
          "2018-11-25",
          "2018-11-26",
          "2018-11-27",
          "2018-11-28",
          "2018-11-29",
          "2018-11-30",
          "2018-12-01"
         ],
         "y": [
          119722.37500000001,
          141931.0499999997,
          252498.975,
          241472.1500000001,
          192534.4249999998,
          156495.6249999999,
          176184.1,
          218802.77499999997,
          223338.89999999898,
          248775.7749999997,
          258635.2500000001,
          17375.9
         ]
        }
       ],
       "layout": {
        "legend": {
         "bgcolor": "#F5F6F9",
         "font": {
          "color": "#4D5663"
         }
        },
        "paper_bgcolor": "#F5F6F9",
        "plot_bgcolor": "#F5F6F9",
        "title": {
         "font": {
          "color": "#4D5663"
         },
         "text": "Bnext Send Money Evolution"
        },
        "xaxis": {
         "gridcolor": "#E1E5ED",
         "showgrid": true,
         "tickfont": {
          "color": "#4D5663"
         },
         "title": {
          "font": {
           "color": "#4D5663"
          },
          "text": "Time"
         },
         "zerolinecolor": "#E1E5ED"
        },
        "yaxis": {
         "gridcolor": "#E1E5ED",
         "showgrid": true,
         "tickfont": {
          "color": "#4D5663"
         },
         "title": {
          "font": {
           "color": "#4D5663"
          },
          "text": "Bnext Send Money"
         },
         "zerolinecolor": "#E1E5ED"
        }
       }
      },
      "text/html": [
       "<div>\n",
       "        \n",
       "        \n",
       "            <div id=\"54d7be9f-9527-400d-aae0-4f512c2fbf19\" class=\"plotly-graph-div\" style=\"height:525px; width:100%;\"></div>\n",
       "            <script type=\"text/javascript\">\n",
       "                require([\"plotly\"], function(Plotly) {\n",
       "                    window.PLOTLYENV=window.PLOTLYENV || {};\n",
       "                    window.PLOTLYENV.BASE_URL='https://plot.ly';\n",
       "                    \n",
       "                if (document.getElementById(\"54d7be9f-9527-400d-aae0-4f512c2fbf19\")) {\n",
       "                    Plotly.newPlot(\n",
       "                        '54d7be9f-9527-400d-aae0-4f512c2fbf19',\n",
       "                        [{\"line\": {\"color\": \"rgba(55, 128, 191, 1.0)\", \"dash\": \"solid\", \"shape\": \"linear\", \"width\": 1.3}, \"mode\": \"lines\", \"name\": \"amount\", \"text\": \"\", \"type\": \"scatter\", \"uid\": \"ccf09e27-6706-4370-a9a2-fd13e3bf596f\", \"x\": [\"2018-11-20\", \"2018-11-21\", \"2018-11-22\", \"2018-11-23\", \"2018-11-24\", \"2018-11-25\", \"2018-11-26\", \"2018-11-27\", \"2018-11-28\", \"2018-11-29\", \"2018-11-30\", \"2018-12-01\"], \"y\": [119722.37500000001, 141931.0499999997, 252498.975, 241472.1500000001, 192534.4249999998, 156495.6249999999, 176184.1, 218802.77499999997, 223338.89999999898, 248775.7749999997, 258635.2500000001, 17375.9]}],\n",
       "                        {\"legend\": {\"bgcolor\": \"#F5F6F9\", \"font\": {\"color\": \"#4D5663\"}}, \"paper_bgcolor\": \"#F5F6F9\", \"plot_bgcolor\": \"#F5F6F9\", \"title\": {\"font\": {\"color\": \"#4D5663\"}, \"text\": \"Bnext Send Money Evolution\"}, \"xaxis\": {\"gridcolor\": \"#E1E5ED\", \"showgrid\": true, \"tickfont\": {\"color\": \"#4D5663\"}, \"title\": {\"font\": {\"color\": \"#4D5663\"}, \"text\": \"Time\"}, \"zerolinecolor\": \"#E1E5ED\"}, \"yaxis\": {\"gridcolor\": \"#E1E5ED\", \"showgrid\": true, \"tickfont\": {\"color\": \"#4D5663\"}, \"title\": {\"font\": {\"color\": \"#4D5663\"}, \"text\": \"Bnext Send Money\"}, \"zerolinecolor\": \"#E1E5ED\"}},\n",
       "                        {\"showLink\": true, \"linkText\": \"Export to plot.ly\", \"plotlyServerURL\": \"https://plot.ly\", \"responsive\": true}\n",
       "                    ).then(function(){\n",
       "                            \n",
       "var gd = document.getElementById('54d7be9f-9527-400d-aae0-4f512c2fbf19');\n",
       "var x = new MutationObserver(function (mutations, observer) {{\n",
       "        var display = window.getComputedStyle(gd).display;\n",
       "        if (!display || display === 'none') {{\n",
       "            console.log([gd, 'removed!']);\n",
       "            Plotly.purge(gd);\n",
       "            observer.disconnect();\n",
       "        }}\n",
       "}});\n",
       "\n",
       "// Listen for the removal of the full notebook cells\n",
       "var notebookContainer = gd.closest('#notebook-container');\n",
       "if (notebookContainer) {{\n",
       "    x.observe(notebookContainer, {childList: true});\n",
       "}}\n",
       "\n",
       "// Listen for the clearing of the current output cell\n",
       "var outputEl = gd.closest('.output');\n",
       "if (outputEl) {{\n",
       "    x.observe(outputEl, {childList: true});\n",
       "}}\n",
       "\n",
       "                        })\n",
       "                };\n",
       "                });\n",
       "            </script>\n",
       "        </div>"
      ]
     },
     "metadata": {},
     "output_type": "display_data"
    }
   ],
   "source": [
    "#Visualizamos la evolución de las transferencias en el tiempo.\n",
    "\n",
    "transfers.iplot(kind='line', x='date', xTitle='Time', color='blue',\n",
    "           yTitle='Bnext Send Money', title='Bnext Send Money Evolution')"
   ]
  },
  {
   "cell_type": "markdown",
   "metadata": {},
   "source": [
    "El análisis de las transferencias entre clientes de Bnext creo que lo voy a quitar"
   ]
  },
  {
   "cell_type": "markdown",
   "metadata": {},
   "source": [
    "# Pregunta nº 3"
   ]
  },
  {
   "cell_type": "markdown",
   "metadata": {},
   "source": [
    "PREGUNTA 3 (opcional): Busca el concepto de cohorte si no estás familiarizadx con él, y realiza un análisis de cohortes diarias. Puedes considerar que la primera transacción de cada usuario en la muestra fue su primera transacción en Bnext."
   ]
  },
  {
   "cell_type": "code",
   "execution_count": 169,
   "metadata": {},
   "outputs": [
    {
     "data": {
      "text/html": [
       "<div>\n",
       "<style scoped>\n",
       "    .dataframe tbody tr th:only-of-type {\n",
       "        vertical-align: middle;\n",
       "    }\n",
       "\n",
       "    .dataframe tbody tr th {\n",
       "        vertical-align: top;\n",
       "    }\n",
       "\n",
       "    .dataframe thead th {\n",
       "        text-align: right;\n",
       "    }\n",
       "</style>\n",
       "<table border=\"1\" class=\"dataframe\">\n",
       "  <thead>\n",
       "    <tr style=\"text-align: right;\">\n",
       "      <th></th>\n",
       "      <th>Nº operations</th>\n",
       "    </tr>\n",
       "    <tr>\n",
       "      <th>user_id</th>\n",
       "      <th></th>\n",
       "    </tr>\n",
       "  </thead>\n",
       "  <tbody>\n",
       "    <tr>\n",
       "      <th>qsqbs-ylycl-titji</th>\n",
       "      <td>251</td>\n",
       "    </tr>\n",
       "    <tr>\n",
       "      <th>bbqij-ccygr-jjtxg</th>\n",
       "      <td>87</td>\n",
       "    </tr>\n",
       "    <tr>\n",
       "      <th>aiqqi-mgyyg-yxttx</th>\n",
       "      <td>81</td>\n",
       "    </tr>\n",
       "    <tr>\n",
       "      <th>avo-mzu-ypq</th>\n",
       "      <td>79</td>\n",
       "    </tr>\n",
       "    <tr>\n",
       "      <th>vocqa-zuaym-pqhty</th>\n",
       "      <td>72</td>\n",
       "    </tr>\n",
       "  </tbody>\n",
       "</table>\n",
       "</div>"
      ],
      "text/plain": [
       "                   Nº operations\n",
       "user_id                         \n",
       "qsqbs-ylycl-titji            251\n",
       "bbqij-ccygr-jjtxg             87\n",
       "aiqqi-mgyyg-yxttx             81\n",
       "avo-mzu-ypq                   79\n",
       "vocqa-zuaym-pqhty             72"
      ]
     },
     "execution_count": 169,
     "metadata": {},
     "output_type": "execute_result"
    }
   ],
   "source": [
    "# Calculo el número de operaciones por cliente (compras, envíos de dinero e ingresos) \n",
    "operations = pd.pivot_table (data, index = ['user_id'], values = ['amount'], aggfunc = ({'amount':'count'}))\n",
    "operations = operations.sort_values('amount', ascending = False)\n",
    "operations.rename(columns = {'amount':'Nº operations'}, inplace = True)\n",
    "operations.head()"
   ]
  },
  {
   "cell_type": "code",
   "execution_count": 170,
   "metadata": {},
   "outputs": [
    {
     "data": {
      "text/html": [
       "<div>\n",
       "<style scoped>\n",
       "    .dataframe tbody tr th:only-of-type {\n",
       "        vertical-align: middle;\n",
       "    }\n",
       "\n",
       "    .dataframe tbody tr th {\n",
       "        vertical-align: top;\n",
       "    }\n",
       "\n",
       "    .dataframe thead th {\n",
       "        text-align: right;\n",
       "    }\n",
       "</style>\n",
       "<table border=\"1\" class=\"dataframe\">\n",
       "  <thead>\n",
       "    <tr style=\"text-align: right;\">\n",
       "      <th></th>\n",
       "      <th>user_id</th>\n",
       "      <th>amount</th>\n",
       "      <th>category</th>\n",
       "      <th>date</th>\n",
       "      <th>Nº operations</th>\n",
       "    </tr>\n",
       "  </thead>\n",
       "  <tbody>\n",
       "    <tr>\n",
       "      <th>0</th>\n",
       "      <td>jcbvas-raczml-ghjpyi</td>\n",
       "      <td>7.500</td>\n",
       "      <td>Purchase</td>\n",
       "      <td>2018-12-01</td>\n",
       "      <td>8</td>\n",
       "    </tr>\n",
       "    <tr>\n",
       "      <th>1</th>\n",
       "      <td>jcbvas-raczml-ghjpyi</td>\n",
       "      <td>18.125</td>\n",
       "      <td>Purchase</td>\n",
       "      <td>2018-12-01</td>\n",
       "      <td>8</td>\n",
       "    </tr>\n",
       "    <tr>\n",
       "      <th>2</th>\n",
       "      <td>jcbvas-raczml-ghjpyi</td>\n",
       "      <td>17.500</td>\n",
       "      <td>Purchase</td>\n",
       "      <td>2018-12-01</td>\n",
       "      <td>8</td>\n",
       "    </tr>\n",
       "    <tr>\n",
       "      <th>3</th>\n",
       "      <td>jcbvas-raczml-ghjpyi</td>\n",
       "      <td>8.750</td>\n",
       "      <td>Purchase</td>\n",
       "      <td>2018-12-01</td>\n",
       "      <td>8</td>\n",
       "    </tr>\n",
       "    <tr>\n",
       "      <th>4</th>\n",
       "      <td>jcbvas-raczml-ghjpyi</td>\n",
       "      <td>8.750</td>\n",
       "      <td>Purchase</td>\n",
       "      <td>2018-12-01</td>\n",
       "      <td>8</td>\n",
       "    </tr>\n",
       "  </tbody>\n",
       "</table>\n",
       "</div>"
      ],
      "text/plain": [
       "                user_id  amount  category        date  Nº operations\n",
       "0  jcbvas-raczml-ghjpyi   7.500  Purchase  2018-12-01              8\n",
       "1  jcbvas-raczml-ghjpyi  18.125  Purchase  2018-12-01              8\n",
       "2  jcbvas-raczml-ghjpyi  17.500  Purchase  2018-12-01              8\n",
       "3  jcbvas-raczml-ghjpyi   8.750  Purchase  2018-12-01              8\n",
       "4  jcbvas-raczml-ghjpyi   8.750  Purchase  2018-12-01              8"
      ]
     },
     "execution_count": 170,
     "metadata": {},
     "output_type": "execute_result"
    }
   ],
   "source": [
    "#Mergeo las tablas para tener todos los datos agrupados\n",
    "data = pd.merge(data, operations, on ='user_id')\n",
    "data.head()"
   ]
  },
  {
   "cell_type": "code",
   "execution_count": 171,
   "metadata": {},
   "outputs": [
    {
     "data": {
      "text/html": [
       "<div>\n",
       "<style scoped>\n",
       "    .dataframe tbody tr th:only-of-type {\n",
       "        vertical-align: middle;\n",
       "    }\n",
       "\n",
       "    .dataframe tbody tr th {\n",
       "        vertical-align: top;\n",
       "    }\n",
       "\n",
       "    .dataframe thead th {\n",
       "        text-align: right;\n",
       "    }\n",
       "</style>\n",
       "<table border=\"1\" class=\"dataframe\">\n",
       "  <thead>\n",
       "    <tr style=\"text-align: right;\">\n",
       "      <th></th>\n",
       "      <th>user_id</th>\n",
       "      <th>amount</th>\n",
       "      <th>category</th>\n",
       "      <th>date</th>\n",
       "      <th>Nº operations</th>\n",
       "      <th>CohortGroup</th>\n",
       "    </tr>\n",
       "  </thead>\n",
       "  <tbody>\n",
       "    <tr>\n",
       "      <th>0</th>\n",
       "      <td>jcbvas-raczml-ghjpyi</td>\n",
       "      <td>7.500</td>\n",
       "      <td>Purchase</td>\n",
       "      <td>2018-12-01</td>\n",
       "      <td>8</td>\n",
       "      <td>2018-11-22</td>\n",
       "    </tr>\n",
       "    <tr>\n",
       "      <th>1</th>\n",
       "      <td>jcbvas-raczml-ghjpyi</td>\n",
       "      <td>18.125</td>\n",
       "      <td>Purchase</td>\n",
       "      <td>2018-12-01</td>\n",
       "      <td>8</td>\n",
       "      <td>2018-11-22</td>\n",
       "    </tr>\n",
       "    <tr>\n",
       "      <th>2</th>\n",
       "      <td>jcbvas-raczml-ghjpyi</td>\n",
       "      <td>17.500</td>\n",
       "      <td>Purchase</td>\n",
       "      <td>2018-12-01</td>\n",
       "      <td>8</td>\n",
       "      <td>2018-11-22</td>\n",
       "    </tr>\n",
       "    <tr>\n",
       "      <th>3</th>\n",
       "      <td>jcbvas-raczml-ghjpyi</td>\n",
       "      <td>8.750</td>\n",
       "      <td>Purchase</td>\n",
       "      <td>2018-12-01</td>\n",
       "      <td>8</td>\n",
       "      <td>2018-11-22</td>\n",
       "    </tr>\n",
       "    <tr>\n",
       "      <th>4</th>\n",
       "      <td>jcbvas-raczml-ghjpyi</td>\n",
       "      <td>8.750</td>\n",
       "      <td>Purchase</td>\n",
       "      <td>2018-12-01</td>\n",
       "      <td>8</td>\n",
       "      <td>2018-11-22</td>\n",
       "    </tr>\n",
       "  </tbody>\n",
       "</table>\n",
       "</div>"
      ],
      "text/plain": [
       "                user_id  amount  category        date  Nº operations  \\\n",
       "0  jcbvas-raczml-ghjpyi   7.500  Purchase  2018-12-01              8   \n",
       "1  jcbvas-raczml-ghjpyi  18.125  Purchase  2018-12-01              8   \n",
       "2  jcbvas-raczml-ghjpyi  17.500  Purchase  2018-12-01              8   \n",
       "3  jcbvas-raczml-ghjpyi   8.750  Purchase  2018-12-01              8   \n",
       "4  jcbvas-raczml-ghjpyi   8.750  Purchase  2018-12-01              8   \n",
       "\n",
       "  CohortGroup  \n",
       "0  2018-11-22  \n",
       "1  2018-11-22  \n",
       "2  2018-11-22  \n",
       "3  2018-11-22  \n",
       "4  2018-11-22  "
      ]
     },
     "execution_count": 171,
     "metadata": {},
     "output_type": "execute_result"
    }
   ],
   "source": [
    "'''\n",
    "Creo una columna nueva donde clasifico a cada uno de los clientes por un grupo de cohorte.\n",
    "El grupo de cohorte de cada cliente corresponde a la fecha de la primera operación registrada.\n",
    "Esta fecha se toma como si fuera la primera transacción del usuario en la app de Bnext\n",
    "Como\n",
    "'''\n",
    "data.set_index('user_id', inplace = True)\n",
    "data['CohortGroup']  = data.groupby(level = 0)['date'].min()\n",
    "data.reset_index(inplace = True)\n",
    "data.head()"
   ]
  },
  {
   "cell_type": "code",
   "execution_count": 172,
   "metadata": {},
   "outputs": [
    {
     "data": {
      "text/html": [
       "<div>\n",
       "<style scoped>\n",
       "    .dataframe tbody tr th:only-of-type {\n",
       "        vertical-align: middle;\n",
       "    }\n",
       "\n",
       "    .dataframe tbody tr th {\n",
       "        vertical-align: top;\n",
       "    }\n",
       "\n",
       "    .dataframe thead th {\n",
       "        text-align: right;\n",
       "    }\n",
       "</style>\n",
       "<table border=\"1\" class=\"dataframe\">\n",
       "  <thead>\n",
       "    <tr style=\"text-align: right;\">\n",
       "      <th></th>\n",
       "      <th></th>\n",
       "      <th>Total Operations</th>\n",
       "      <th>Total Amount</th>\n",
       "      <th>Total Users</th>\n",
       "    </tr>\n",
       "    <tr>\n",
       "      <th>CohortGroup</th>\n",
       "      <th>date</th>\n",
       "      <th></th>\n",
       "      <th></th>\n",
       "      <th></th>\n",
       "    </tr>\n",
       "  </thead>\n",
       "  <tbody>\n",
       "    <tr>\n",
       "      <th rowspan=\"5\" valign=\"top\">2018-11-20</th>\n",
       "      <th>2018-11-20</th>\n",
       "      <td>56</td>\n",
       "      <td>1083219.600</td>\n",
       "      <td>6408</td>\n",
       "    </tr>\n",
       "    <tr>\n",
       "      <th>2018-11-21</th>\n",
       "      <td>54</td>\n",
       "      <td>320886.775</td>\n",
       "      <td>1573</td>\n",
       "    </tr>\n",
       "    <tr>\n",
       "      <th>2018-11-22</th>\n",
       "      <td>52</td>\n",
       "      <td>345969.375</td>\n",
       "      <td>2075</td>\n",
       "    </tr>\n",
       "    <tr>\n",
       "      <th>2018-11-23</th>\n",
       "      <td>55</td>\n",
       "      <td>668907.075</td>\n",
       "      <td>2467</td>\n",
       "    </tr>\n",
       "    <tr>\n",
       "      <th>2018-11-24</th>\n",
       "      <td>54</td>\n",
       "      <td>330199.650</td>\n",
       "      <td>1577</td>\n",
       "    </tr>\n",
       "  </tbody>\n",
       "</table>\n",
       "</div>"
      ],
      "text/plain": [
       "                        Total Operations  Total Amount  Total Users\n",
       "CohortGroup date                                                   \n",
       "2018-11-20  2018-11-20                56   1083219.600         6408\n",
       "            2018-11-21                54    320886.775         1573\n",
       "            2018-11-22                52    345969.375         2075\n",
       "            2018-11-23                55    668907.075         2467\n",
       "            2018-11-24                54    330199.650         1577"
      ]
     },
     "execution_count": 172,
     "metadata": {},
     "output_type": "execute_result"
    }
   ],
   "source": [
    "'''\n",
    "Agrupo por grupo de cohorte y fecha, de tal manera que por cada grupo de cohorte podemos ver el número de días\n",
    "en los que se han realizado transacciones\n",
    "'''\n",
    "cohortes = pd.pivot_table(data, index = ['CohortGroup','date'], values = ['amount','Nº operations','user_id'], aggfunc = ({'amount':sum, 'Nº operations':pd.Series.nunique, 'user_id': pd.Series.nunique }))\n",
    "cohortes.rename(columns = {'user_id':'Total Users', 'Nº operations':'Total Operations', 'amount':'Total Amount'}, inplace = True)\n",
    "cohortes.head()"
   ]
  },
  {
   "cell_type": "code",
   "execution_count": 173,
   "metadata": {},
   "outputs": [],
   "source": [
    "'''\n",
    "Queremos ver cómo se ha comportado cada cohorte en los días posteriores a su primera compra, \n",
    "por lo vamos indexar cada cohorte a su primer día de compra. El día 1 de cada cohorte será el periodo de cohorte 1,\n",
    "el día 2 de cada cohorte será el periodo de cohorte 2 y asi sucesivamente. Por el ejemplo si estamos en el cohorte \n",
    "del 25/11/2018 el segundo periodo de ese cohorte será el 26/11/2018, mientras que si estamos en el cohorte del \n",
    "28/11/2018 el segundo periodo de ese cohorte será el 29/11/2018.\n",
    "Para ello creamos la funcion cohort_period.\n",
    "'''\n",
    "\n",
    "def cohort_period(df):\n",
    "    df['CohortPeriod'] = np.arange(len(df)) + 1\n",
    "    return df"
   ]
  },
  {
   "cell_type": "code",
   "execution_count": 174,
   "metadata": {},
   "outputs": [
    {
     "data": {
      "text/html": [
       "<div>\n",
       "<style scoped>\n",
       "    .dataframe tbody tr th:only-of-type {\n",
       "        vertical-align: middle;\n",
       "    }\n",
       "\n",
       "    .dataframe tbody tr th {\n",
       "        vertical-align: top;\n",
       "    }\n",
       "\n",
       "    .dataframe thead th {\n",
       "        text-align: right;\n",
       "    }\n",
       "</style>\n",
       "<table border=\"1\" class=\"dataframe\">\n",
       "  <thead>\n",
       "    <tr style=\"text-align: right;\">\n",
       "      <th></th>\n",
       "      <th></th>\n",
       "      <th>Total Operations</th>\n",
       "      <th>Total Amount</th>\n",
       "      <th>Total Users</th>\n",
       "      <th>CohortPeriod</th>\n",
       "    </tr>\n",
       "    <tr>\n",
       "      <th>CohortGroup</th>\n",
       "      <th>date</th>\n",
       "      <th></th>\n",
       "      <th></th>\n",
       "      <th></th>\n",
       "      <th></th>\n",
       "    </tr>\n",
       "  </thead>\n",
       "  <tbody>\n",
       "    <tr>\n",
       "      <th rowspan=\"5\" valign=\"top\">2018-11-20</th>\n",
       "      <th>2018-11-20</th>\n",
       "      <td>56</td>\n",
       "      <td>1083219.600</td>\n",
       "      <td>6408</td>\n",
       "      <td>1</td>\n",
       "    </tr>\n",
       "    <tr>\n",
       "      <th>2018-11-21</th>\n",
       "      <td>54</td>\n",
       "      <td>320886.775</td>\n",
       "      <td>1573</td>\n",
       "      <td>2</td>\n",
       "    </tr>\n",
       "    <tr>\n",
       "      <th>2018-11-22</th>\n",
       "      <td>52</td>\n",
       "      <td>345969.375</td>\n",
       "      <td>2075</td>\n",
       "      <td>3</td>\n",
       "    </tr>\n",
       "    <tr>\n",
       "      <th>2018-11-23</th>\n",
       "      <td>55</td>\n",
       "      <td>668907.075</td>\n",
       "      <td>2467</td>\n",
       "      <td>4</td>\n",
       "    </tr>\n",
       "    <tr>\n",
       "      <th>2018-11-24</th>\n",
       "      <td>54</td>\n",
       "      <td>330199.650</td>\n",
       "      <td>1577</td>\n",
       "      <td>5</td>\n",
       "    </tr>\n",
       "  </tbody>\n",
       "</table>\n",
       "</div>"
      ],
      "text/plain": [
       "                        Total Operations  Total Amount  Total Users  \\\n",
       "CohortGroup date                                                      \n",
       "2018-11-20  2018-11-20                56   1083219.600         6408   \n",
       "            2018-11-21                54    320886.775         1573   \n",
       "            2018-11-22                52    345969.375         2075   \n",
       "            2018-11-23                55    668907.075         2467   \n",
       "            2018-11-24                54    330199.650         1577   \n",
       "\n",
       "                        CohortPeriod  \n",
       "CohortGroup date                      \n",
       "2018-11-20  2018-11-20             1  \n",
       "            2018-11-21             2  \n",
       "            2018-11-22             3  \n",
       "            2018-11-23             4  \n",
       "            2018-11-24             5  "
      ]
     },
     "execution_count": 174,
     "metadata": {},
     "output_type": "execute_result"
    }
   ],
   "source": [
    "# Aplico la función al dataset agrupado.\n",
    "cohortes = cohortes.groupby(level=0).apply(cohort_period)\n",
    "cohortes.head()"
   ]
  },
  {
   "cell_type": "code",
   "execution_count": 175,
   "metadata": {},
   "outputs": [
    {
     "data": {
      "text/html": [
       "<div>\n",
       "<style scoped>\n",
       "    .dataframe tbody tr th:only-of-type {\n",
       "        vertical-align: middle;\n",
       "    }\n",
       "\n",
       "    .dataframe tbody tr th {\n",
       "        vertical-align: top;\n",
       "    }\n",
       "\n",
       "    .dataframe thead th {\n",
       "        text-align: right;\n",
       "    }\n",
       "</style>\n",
       "<table border=\"1\" class=\"dataframe\">\n",
       "  <thead>\n",
       "    <tr style=\"text-align: right;\">\n",
       "      <th></th>\n",
       "      <th></th>\n",
       "      <th>date</th>\n",
       "      <th>Total Operations</th>\n",
       "      <th>Total Amount</th>\n",
       "      <th>Total Users</th>\n",
       "    </tr>\n",
       "    <tr>\n",
       "      <th>CohortGroup</th>\n",
       "      <th>CohortPeriod</th>\n",
       "      <th></th>\n",
       "      <th></th>\n",
       "      <th></th>\n",
       "      <th></th>\n",
       "    </tr>\n",
       "  </thead>\n",
       "  <tbody>\n",
       "    <tr>\n",
       "      <th rowspan=\"5\" valign=\"top\">2018-11-20</th>\n",
       "      <th>1</th>\n",
       "      <td>2018-11-20</td>\n",
       "      <td>56</td>\n",
       "      <td>1083219.600</td>\n",
       "      <td>6408</td>\n",
       "    </tr>\n",
       "    <tr>\n",
       "      <th>2</th>\n",
       "      <td>2018-11-21</td>\n",
       "      <td>54</td>\n",
       "      <td>320886.775</td>\n",
       "      <td>1573</td>\n",
       "    </tr>\n",
       "    <tr>\n",
       "      <th>3</th>\n",
       "      <td>2018-11-22</td>\n",
       "      <td>52</td>\n",
       "      <td>345969.375</td>\n",
       "      <td>2075</td>\n",
       "    </tr>\n",
       "    <tr>\n",
       "      <th>4</th>\n",
       "      <td>2018-11-23</td>\n",
       "      <td>55</td>\n",
       "      <td>668907.075</td>\n",
       "      <td>2467</td>\n",
       "    </tr>\n",
       "    <tr>\n",
       "      <th>5</th>\n",
       "      <td>2018-11-24</td>\n",
       "      <td>54</td>\n",
       "      <td>330199.650</td>\n",
       "      <td>1577</td>\n",
       "    </tr>\n",
       "  </tbody>\n",
       "</table>\n",
       "</div>"
      ],
      "text/plain": [
       "                                date  Total Operations  Total Amount  \\\n",
       "CohortGroup CohortPeriod                                               \n",
       "2018-11-20  1             2018-11-20                56   1083219.600   \n",
       "            2             2018-11-21                54    320886.775   \n",
       "            3             2018-11-22                52    345969.375   \n",
       "            4             2018-11-23                55    668907.075   \n",
       "            5             2018-11-24                54    330199.650   \n",
       "\n",
       "                          Total Users  \n",
       "CohortGroup CohortPeriod               \n",
       "2018-11-20  1                    6408  \n",
       "            2                    1573  \n",
       "            3                    2075  \n",
       "            4                    2467  \n",
       "            5                    1577  "
      ]
     },
     "execution_count": 175,
     "metadata": {},
     "output_type": "execute_result"
    }
   ],
   "source": [
    "# Agrupo la tabla por grupo de cohorte y periodo de cohorte\n",
    "cohortes.reset_index(inplace=True)\n",
    "cohortes.set_index(['CohortGroup', 'CohortPeriod'], inplace=True)\n",
    "cohortes.head()"
   ]
  },
  {
   "cell_type": "code",
   "execution_count": 176,
   "metadata": {},
   "outputs": [
    {
     "data": {
      "text/plain": [
       "CohortGroup\n",
       "2018-11-20    6408\n",
       "2018-11-21    4702\n",
       "2018-11-22    6167\n",
       "2018-11-23    7411\n",
       "2018-11-24    2949\n",
       "Name: Total Users, dtype: int64"
      ]
     },
     "execution_count": 176,
     "metadata": {},
     "output_type": "execute_result"
    }
   ],
   "source": [
    "# Creo una serie con el número total de usuarios para cada cohorte\n",
    "cohort_group_size = cohortes['Total Users'].groupby(level=0).first()\n",
    "cohort_group_size.head()"
   ]
  },
  {
   "cell_type": "code",
   "execution_count": 177,
   "metadata": {},
   "outputs": [
    {
     "data": {
      "text/html": [
       "<div>\n",
       "<style scoped>\n",
       "    .dataframe tbody tr th:only-of-type {\n",
       "        vertical-align: middle;\n",
       "    }\n",
       "\n",
       "    .dataframe tbody tr th {\n",
       "        vertical-align: top;\n",
       "    }\n",
       "\n",
       "    .dataframe thead th {\n",
       "        text-align: right;\n",
       "    }\n",
       "</style>\n",
       "<table border=\"1\" class=\"dataframe\">\n",
       "  <thead>\n",
       "    <tr style=\"text-align: right;\">\n",
       "      <th>CohortGroup</th>\n",
       "      <th>2018-11-20</th>\n",
       "      <th>2018-11-21</th>\n",
       "      <th>2018-11-22</th>\n",
       "      <th>2018-11-23</th>\n",
       "      <th>2018-11-24</th>\n",
       "      <th>2018-11-25</th>\n",
       "      <th>2018-11-26</th>\n",
       "      <th>2018-11-27</th>\n",
       "      <th>2018-11-28</th>\n",
       "      <th>2018-11-29</th>\n",
       "      <th>2018-11-30</th>\n",
       "      <th>2018-12-01</th>\n",
       "    </tr>\n",
       "    <tr>\n",
       "      <th>CohortPeriod</th>\n",
       "      <th></th>\n",
       "      <th></th>\n",
       "      <th></th>\n",
       "      <th></th>\n",
       "      <th></th>\n",
       "      <th></th>\n",
       "      <th></th>\n",
       "      <th></th>\n",
       "      <th></th>\n",
       "      <th></th>\n",
       "      <th></th>\n",
       "      <th></th>\n",
       "    </tr>\n",
       "  </thead>\n",
       "  <tbody>\n",
       "    <tr>\n",
       "      <th>1</th>\n",
       "      <td>6408.0</td>\n",
       "      <td>4702.0</td>\n",
       "      <td>6167.0</td>\n",
       "      <td>7411.0</td>\n",
       "      <td>2949.0</td>\n",
       "      <td>2186.0</td>\n",
       "      <td>2171.0</td>\n",
       "      <td>1828.0</td>\n",
       "      <td>1650.0</td>\n",
       "      <td>1532.0</td>\n",
       "      <td>1703.0</td>\n",
       "      <td>136.0</td>\n",
       "    </tr>\n",
       "    <tr>\n",
       "      <th>2</th>\n",
       "      <td>1573.0</td>\n",
       "      <td>1187.0</td>\n",
       "      <td>2003.0</td>\n",
       "      <td>1533.0</td>\n",
       "      <td>448.0</td>\n",
       "      <td>286.0</td>\n",
       "      <td>301.0</td>\n",
       "      <td>218.0</td>\n",
       "      <td>228.0</td>\n",
       "      <td>236.0</td>\n",
       "      <td>42.0</td>\n",
       "      <td>NaN</td>\n",
       "    </tr>\n",
       "    <tr>\n",
       "      <th>3</th>\n",
       "      <td>2075.0</td>\n",
       "      <td>1663.0</td>\n",
       "      <td>1090.0</td>\n",
       "      <td>1019.0</td>\n",
       "      <td>386.0</td>\n",
       "      <td>355.0</td>\n",
       "      <td>285.0</td>\n",
       "      <td>190.0</td>\n",
       "      <td>209.0</td>\n",
       "      <td>29.0</td>\n",
       "      <td>NaN</td>\n",
       "      <td>NaN</td>\n",
       "    </tr>\n",
       "    <tr>\n",
       "      <th>4</th>\n",
       "      <td>2467.0</td>\n",
       "      <td>1037.0</td>\n",
       "      <td>879.0</td>\n",
       "      <td>1040.0</td>\n",
       "      <td>472.0</td>\n",
       "      <td>304.0</td>\n",
       "      <td>258.0</td>\n",
       "      <td>349.0</td>\n",
       "      <td>25.0</td>\n",
       "      <td>NaN</td>\n",
       "      <td>NaN</td>\n",
       "      <td>NaN</td>\n",
       "    </tr>\n",
       "    <tr>\n",
       "      <th>5</th>\n",
       "      <td>1577.0</td>\n",
       "      <td>776.0</td>\n",
       "      <td>1046.0</td>\n",
       "      <td>1164.0</td>\n",
       "      <td>421.0</td>\n",
       "      <td>271.0</td>\n",
       "      <td>365.0</td>\n",
       "      <td>26.0</td>\n",
       "      <td>NaN</td>\n",
       "      <td>NaN</td>\n",
       "      <td>NaN</td>\n",
       "      <td>NaN</td>\n",
       "    </tr>\n",
       "    <tr>\n",
       "      <th>6</th>\n",
       "      <td>1248.0</td>\n",
       "      <td>979.0</td>\n",
       "      <td>1077.0</td>\n",
       "      <td>1791.0</td>\n",
       "      <td>342.0</td>\n",
       "      <td>462.0</td>\n",
       "      <td>40.0</td>\n",
       "      <td>NaN</td>\n",
       "      <td>NaN</td>\n",
       "      <td>NaN</td>\n",
       "      <td>NaN</td>\n",
       "      <td>NaN</td>\n",
       "    </tr>\n",
       "    <tr>\n",
       "      <th>7</th>\n",
       "      <td>1619.0</td>\n",
       "      <td>886.0</td>\n",
       "      <td>1271.0</td>\n",
       "      <td>1627.0</td>\n",
       "      <td>598.0</td>\n",
       "      <td>46.0</td>\n",
       "      <td>NaN</td>\n",
       "      <td>NaN</td>\n",
       "      <td>NaN</td>\n",
       "      <td>NaN</td>\n",
       "      <td>NaN</td>\n",
       "      <td>NaN</td>\n",
       "    </tr>\n",
       "    <tr>\n",
       "      <th>8</th>\n",
       "      <td>1516.0</td>\n",
       "      <td>1053.0</td>\n",
       "      <td>1164.0</td>\n",
       "      <td>1637.0</td>\n",
       "      <td>62.0</td>\n",
       "      <td>NaN</td>\n",
       "      <td>NaN</td>\n",
       "      <td>NaN</td>\n",
       "      <td>NaN</td>\n",
       "      <td>NaN</td>\n",
       "      <td>NaN</td>\n",
       "      <td>NaN</td>\n",
       "    </tr>\n",
       "    <tr>\n",
       "      <th>9</th>\n",
       "      <td>1745.0</td>\n",
       "      <td>955.0</td>\n",
       "      <td>2214.0</td>\n",
       "      <td>154.0</td>\n",
       "      <td>NaN</td>\n",
       "      <td>NaN</td>\n",
       "      <td>NaN</td>\n",
       "      <td>NaN</td>\n",
       "      <td>NaN</td>\n",
       "      <td>NaN</td>\n",
       "      <td>NaN</td>\n",
       "      <td>NaN</td>\n",
       "    </tr>\n",
       "    <tr>\n",
       "      <th>10</th>\n",
       "      <td>1592.0</td>\n",
       "      <td>1276.0</td>\n",
       "      <td>141.0</td>\n",
       "      <td>NaN</td>\n",
       "      <td>NaN</td>\n",
       "      <td>NaN</td>\n",
       "      <td>NaN</td>\n",
       "      <td>NaN</td>\n",
       "      <td>NaN</td>\n",
       "      <td>NaN</td>\n",
       "      <td>NaN</td>\n",
       "      <td>NaN</td>\n",
       "    </tr>\n",
       "    <tr>\n",
       "      <th>11</th>\n",
       "      <td>2083.0</td>\n",
       "      <td>123.0</td>\n",
       "      <td>NaN</td>\n",
       "      <td>NaN</td>\n",
       "      <td>NaN</td>\n",
       "      <td>NaN</td>\n",
       "      <td>NaN</td>\n",
       "      <td>NaN</td>\n",
       "      <td>NaN</td>\n",
       "      <td>NaN</td>\n",
       "      <td>NaN</td>\n",
       "      <td>NaN</td>\n",
       "    </tr>\n",
       "    <tr>\n",
       "      <th>12</th>\n",
       "      <td>171.0</td>\n",
       "      <td>NaN</td>\n",
       "      <td>NaN</td>\n",
       "      <td>NaN</td>\n",
       "      <td>NaN</td>\n",
       "      <td>NaN</td>\n",
       "      <td>NaN</td>\n",
       "      <td>NaN</td>\n",
       "      <td>NaN</td>\n",
       "      <td>NaN</td>\n",
       "      <td>NaN</td>\n",
       "      <td>NaN</td>\n",
       "    </tr>\n",
       "  </tbody>\n",
       "</table>\n",
       "</div>"
      ],
      "text/plain": [
       "CohortGroup   2018-11-20  2018-11-21  2018-11-22  2018-11-23  2018-11-24  \\\n",
       "CohortPeriod                                                               \n",
       "1                 6408.0      4702.0      6167.0      7411.0      2949.0   \n",
       "2                 1573.0      1187.0      2003.0      1533.0       448.0   \n",
       "3                 2075.0      1663.0      1090.0      1019.0       386.0   \n",
       "4                 2467.0      1037.0       879.0      1040.0       472.0   \n",
       "5                 1577.0       776.0      1046.0      1164.0       421.0   \n",
       "6                 1248.0       979.0      1077.0      1791.0       342.0   \n",
       "7                 1619.0       886.0      1271.0      1627.0       598.0   \n",
       "8                 1516.0      1053.0      1164.0      1637.0        62.0   \n",
       "9                 1745.0       955.0      2214.0       154.0         NaN   \n",
       "10                1592.0      1276.0       141.0         NaN         NaN   \n",
       "11                2083.0       123.0         NaN         NaN         NaN   \n",
       "12                 171.0         NaN         NaN         NaN         NaN   \n",
       "\n",
       "CohortGroup   2018-11-25  2018-11-26  2018-11-27  2018-11-28  2018-11-29  \\\n",
       "CohortPeriod                                                               \n",
       "1                 2186.0      2171.0      1828.0      1650.0      1532.0   \n",
       "2                  286.0       301.0       218.0       228.0       236.0   \n",
       "3                  355.0       285.0       190.0       209.0        29.0   \n",
       "4                  304.0       258.0       349.0        25.0         NaN   \n",
       "5                  271.0       365.0        26.0         NaN         NaN   \n",
       "6                  462.0        40.0         NaN         NaN         NaN   \n",
       "7                   46.0         NaN         NaN         NaN         NaN   \n",
       "8                    NaN         NaN         NaN         NaN         NaN   \n",
       "9                    NaN         NaN         NaN         NaN         NaN   \n",
       "10                   NaN         NaN         NaN         NaN         NaN   \n",
       "11                   NaN         NaN         NaN         NaN         NaN   \n",
       "12                   NaN         NaN         NaN         NaN         NaN   \n",
       "\n",
       "CohortGroup   2018-11-30  2018-12-01  \n",
       "CohortPeriod                          \n",
       "1                 1703.0       136.0  \n",
       "2                   42.0         NaN  \n",
       "3                    NaN         NaN  \n",
       "4                    NaN         NaN  \n",
       "5                    NaN         NaN  \n",
       "6                    NaN         NaN  \n",
       "7                    NaN         NaN  \n",
       "8                    NaN         NaN  \n",
       "9                    NaN         NaN  \n",
       "10                   NaN         NaN  \n",
       "11                   NaN         NaN  \n",
       "12                   NaN         NaN  "
      ]
     },
     "execution_count": 177,
     "metadata": {},
     "output_type": "execute_result"
    }
   ],
   "source": [
    "'''\n",
    "Ahora creamos una matriz para distribuir a los usuarios, donde las columnas serán el grupo de cohortes \n",
    "y las filas serán el periodo de cohorte . De esta manera podremos ver podremos ver la evolución de los usuarios en \n",
    "los días posteriores a su primera transacción con Bnext.\n",
    "'''\n",
    "\n",
    "cohortes['Total Users'].unstack(0)"
   ]
  },
  {
   "cell_type": "code",
   "execution_count": 178,
   "metadata": {},
   "outputs": [
    {
     "data": {
      "text/html": [
       "<div>\n",
       "<style scoped>\n",
       "    .dataframe tbody tr th:only-of-type {\n",
       "        vertical-align: middle;\n",
       "    }\n",
       "\n",
       "    .dataframe tbody tr th {\n",
       "        vertical-align: top;\n",
       "    }\n",
       "\n",
       "    .dataframe thead th {\n",
       "        text-align: right;\n",
       "    }\n",
       "</style>\n",
       "<table border=\"1\" class=\"dataframe\">\n",
       "  <thead>\n",
       "    <tr style=\"text-align: right;\">\n",
       "      <th>CohortGroup</th>\n",
       "      <th>2018-11-20</th>\n",
       "      <th>2018-11-21</th>\n",
       "      <th>2018-11-22</th>\n",
       "      <th>2018-11-23</th>\n",
       "      <th>2018-11-24</th>\n",
       "      <th>2018-11-25</th>\n",
       "      <th>2018-11-26</th>\n",
       "      <th>2018-11-27</th>\n",
       "      <th>2018-11-28</th>\n",
       "      <th>2018-11-29</th>\n",
       "      <th>2018-11-30</th>\n",
       "      <th>2018-12-01</th>\n",
       "    </tr>\n",
       "    <tr>\n",
       "      <th>CohortPeriod</th>\n",
       "      <th></th>\n",
       "      <th></th>\n",
       "      <th></th>\n",
       "      <th></th>\n",
       "      <th></th>\n",
       "      <th></th>\n",
       "      <th></th>\n",
       "      <th></th>\n",
       "      <th></th>\n",
       "      <th></th>\n",
       "      <th></th>\n",
       "      <th></th>\n",
       "    </tr>\n",
       "  </thead>\n",
       "  <tbody>\n",
       "    <tr>\n",
       "      <th>1</th>\n",
       "      <td>1.000000</td>\n",
       "      <td>1.000000</td>\n",
       "      <td>1.000000</td>\n",
       "      <td>1.000000</td>\n",
       "      <td>1.000000</td>\n",
       "      <td>1.000000</td>\n",
       "      <td>1.000000</td>\n",
       "      <td>1.000000</td>\n",
       "      <td>1.000000</td>\n",
       "      <td>1.000000</td>\n",
       "      <td>1.000000</td>\n",
       "      <td>1.0</td>\n",
       "    </tr>\n",
       "    <tr>\n",
       "      <th>2</th>\n",
       "      <td>0.245474</td>\n",
       "      <td>0.252446</td>\n",
       "      <td>0.324793</td>\n",
       "      <td>0.206855</td>\n",
       "      <td>0.151916</td>\n",
       "      <td>0.130833</td>\n",
       "      <td>0.138646</td>\n",
       "      <td>0.119256</td>\n",
       "      <td>0.138182</td>\n",
       "      <td>0.154047</td>\n",
       "      <td>0.024662</td>\n",
       "      <td>NaN</td>\n",
       "    </tr>\n",
       "    <tr>\n",
       "      <th>3</th>\n",
       "      <td>0.323814</td>\n",
       "      <td>0.353679</td>\n",
       "      <td>0.176747</td>\n",
       "      <td>0.137498</td>\n",
       "      <td>0.130892</td>\n",
       "      <td>0.162397</td>\n",
       "      <td>0.131276</td>\n",
       "      <td>0.103939</td>\n",
       "      <td>0.126667</td>\n",
       "      <td>0.018930</td>\n",
       "      <td>NaN</td>\n",
       "      <td>NaN</td>\n",
       "    </tr>\n",
       "    <tr>\n",
       "      <th>4</th>\n",
       "      <td>0.384988</td>\n",
       "      <td>0.220544</td>\n",
       "      <td>0.142533</td>\n",
       "      <td>0.140332</td>\n",
       "      <td>0.160054</td>\n",
       "      <td>0.139067</td>\n",
       "      <td>0.118839</td>\n",
       "      <td>0.190919</td>\n",
       "      <td>0.015152</td>\n",
       "      <td>NaN</td>\n",
       "      <td>NaN</td>\n",
       "      <td>NaN</td>\n",
       "    </tr>\n",
       "    <tr>\n",
       "      <th>5</th>\n",
       "      <td>0.246099</td>\n",
       "      <td>0.165036</td>\n",
       "      <td>0.169612</td>\n",
       "      <td>0.157064</td>\n",
       "      <td>0.142760</td>\n",
       "      <td>0.123971</td>\n",
       "      <td>0.168125</td>\n",
       "      <td>0.014223</td>\n",
       "      <td>NaN</td>\n",
       "      <td>NaN</td>\n",
       "      <td>NaN</td>\n",
       "      <td>NaN</td>\n",
       "    </tr>\n",
       "    <tr>\n",
       "      <th>6</th>\n",
       "      <td>0.194757</td>\n",
       "      <td>0.208209</td>\n",
       "      <td>0.174639</td>\n",
       "      <td>0.241668</td>\n",
       "      <td>0.115972</td>\n",
       "      <td>0.211345</td>\n",
       "      <td>0.018425</td>\n",
       "      <td>NaN</td>\n",
       "      <td>NaN</td>\n",
       "      <td>NaN</td>\n",
       "      <td>NaN</td>\n",
       "      <td>NaN</td>\n",
       "    </tr>\n",
       "    <tr>\n",
       "      <th>7</th>\n",
       "      <td>0.252653</td>\n",
       "      <td>0.188430</td>\n",
       "      <td>0.206097</td>\n",
       "      <td>0.219539</td>\n",
       "      <td>0.202781</td>\n",
       "      <td>0.021043</td>\n",
       "      <td>NaN</td>\n",
       "      <td>NaN</td>\n",
       "      <td>NaN</td>\n",
       "      <td>NaN</td>\n",
       "      <td>NaN</td>\n",
       "      <td>NaN</td>\n",
       "    </tr>\n",
       "    <tr>\n",
       "      <th>8</th>\n",
       "      <td>0.236579</td>\n",
       "      <td>0.223947</td>\n",
       "      <td>0.188747</td>\n",
       "      <td>0.220888</td>\n",
       "      <td>0.021024</td>\n",
       "      <td>NaN</td>\n",
       "      <td>NaN</td>\n",
       "      <td>NaN</td>\n",
       "      <td>NaN</td>\n",
       "      <td>NaN</td>\n",
       "      <td>NaN</td>\n",
       "      <td>NaN</td>\n",
       "    </tr>\n",
       "    <tr>\n",
       "      <th>9</th>\n",
       "      <td>0.272316</td>\n",
       "      <td>0.203105</td>\n",
       "      <td>0.359008</td>\n",
       "      <td>0.020780</td>\n",
       "      <td>NaN</td>\n",
       "      <td>NaN</td>\n",
       "      <td>NaN</td>\n",
       "      <td>NaN</td>\n",
       "      <td>NaN</td>\n",
       "      <td>NaN</td>\n",
       "      <td>NaN</td>\n",
       "      <td>NaN</td>\n",
       "    </tr>\n",
       "    <tr>\n",
       "      <th>10</th>\n",
       "      <td>0.248439</td>\n",
       "      <td>0.271374</td>\n",
       "      <td>0.022864</td>\n",
       "      <td>NaN</td>\n",
       "      <td>NaN</td>\n",
       "      <td>NaN</td>\n",
       "      <td>NaN</td>\n",
       "      <td>NaN</td>\n",
       "      <td>NaN</td>\n",
       "      <td>NaN</td>\n",
       "      <td>NaN</td>\n",
       "      <td>NaN</td>\n",
       "    </tr>\n",
       "  </tbody>\n",
       "</table>\n",
       "</div>"
      ],
      "text/plain": [
       "CohortGroup   2018-11-20  2018-11-21  2018-11-22  2018-11-23  2018-11-24  \\\n",
       "CohortPeriod                                                               \n",
       "1               1.000000    1.000000    1.000000    1.000000    1.000000   \n",
       "2               0.245474    0.252446    0.324793    0.206855    0.151916   \n",
       "3               0.323814    0.353679    0.176747    0.137498    0.130892   \n",
       "4               0.384988    0.220544    0.142533    0.140332    0.160054   \n",
       "5               0.246099    0.165036    0.169612    0.157064    0.142760   \n",
       "6               0.194757    0.208209    0.174639    0.241668    0.115972   \n",
       "7               0.252653    0.188430    0.206097    0.219539    0.202781   \n",
       "8               0.236579    0.223947    0.188747    0.220888    0.021024   \n",
       "9               0.272316    0.203105    0.359008    0.020780         NaN   \n",
       "10              0.248439    0.271374    0.022864         NaN         NaN   \n",
       "\n",
       "CohortGroup   2018-11-25  2018-11-26  2018-11-27  2018-11-28  2018-11-29  \\\n",
       "CohortPeriod                                                               \n",
       "1               1.000000    1.000000    1.000000    1.000000    1.000000   \n",
       "2               0.130833    0.138646    0.119256    0.138182    0.154047   \n",
       "3               0.162397    0.131276    0.103939    0.126667    0.018930   \n",
       "4               0.139067    0.118839    0.190919    0.015152         NaN   \n",
       "5               0.123971    0.168125    0.014223         NaN         NaN   \n",
       "6               0.211345    0.018425         NaN         NaN         NaN   \n",
       "7               0.021043         NaN         NaN         NaN         NaN   \n",
       "8                    NaN         NaN         NaN         NaN         NaN   \n",
       "9                    NaN         NaN         NaN         NaN         NaN   \n",
       "10                   NaN         NaN         NaN         NaN         NaN   \n",
       "\n",
       "CohortGroup   2018-11-30  2018-12-01  \n",
       "CohortPeriod                          \n",
       "1               1.000000         1.0  \n",
       "2               0.024662         NaN  \n",
       "3                    NaN         NaN  \n",
       "4                    NaN         NaN  \n",
       "5                    NaN         NaN  \n",
       "6                    NaN         NaN  \n",
       "7                    NaN         NaN  \n",
       "8                    NaN         NaN  \n",
       "9                    NaN         NaN  \n",
       "10                   NaN         NaN  "
      ]
     },
     "execution_count": 178,
     "metadata": {},
     "output_type": "execute_result"
    }
   ],
   "source": [
    "'''\n",
    "Ahora vamos a crear un dataFrame llamado user_retention (retencion de usuarios),que contiene el porcentaje de\n",
    "usuarios de la cohorte que compra dentro del período dado. Por ejemplo: El 17,67% de los usuarios que hicieron \n",
    "su primera transacción el 22/11/2018 volvieron a comprar el 24/11/2018.\n",
    "El periodo 1 de cohorte como siempre coincide con el día del grupo de cohorte siempre va a ser el 100%.\n",
    "'''\n",
    "\n",
    "user_retention = cohortes['Total Users'].unstack(0).divide(cohort_group_size, axis=1)\n",
    "user_retention.head(10)"
   ]
  },
  {
   "cell_type": "code",
   "execution_count": 179,
   "metadata": {},
   "outputs": [
    {
     "ename": "KeyError",
     "evalue": "\"None of [Index(['2018-11-20', '2018-11-21', '2018-11-22', '2018-11-23', '2018-11-24',\\n       '2018-11-25', '2018-11-26', '2018-11-27', '2018-11-28', '2018-11-29',\\n       '2018-11-30', '2018-12-01'],\\n      dtype='object', name='CohortGroup')] are in the [columns]\"",
     "output_type": "error",
     "traceback": [
      "\u001b[0;31m---------------------------------------------------------------------------\u001b[0m",
      "\u001b[0;31mKeyError\u001b[0m                                  Traceback (most recent call last)",
      "\u001b[0;32m<ipython-input-179-fc1360f8c34f>\u001b[0m in \u001b[0;36m<module>\u001b[0;34m\u001b[0m\n\u001b[0;32m----> 1\u001b[0;31m \u001b[0muser_retention\u001b[0m\u001b[0;34m[\u001b[0m\u001b[0;34m[\u001b[0m\u001b[0;34m'2018-11-20'\u001b[0m \u001b[0;34m,\u001b[0m \u001b[0;34m'2018-11-21'\u001b[0m \u001b[0;34m,\u001b[0m \u001b[0;34m'2018-11-22'\u001b[0m \u001b[0;34m,\u001b[0m \u001b[0;34m'2018-11-23'\u001b[0m \u001b[0;34m,\u001b[0m \u001b[0;34m'2018-11-24'\u001b[0m \u001b[0;34m,\u001b[0m \u001b[0;34m'2018-11-25'\u001b[0m \u001b[0;34m,\u001b[0m \u001b[0;34m'2018-11-26'\u001b[0m \u001b[0;34m,\u001b[0m \u001b[0;34m'2018-11-27'\u001b[0m \u001b[0;34m,\u001b[0m \u001b[0;34m'2018-11-28'\u001b[0m \u001b[0;34m,\u001b[0m \u001b[0;34m'2018-11-29'\u001b[0m \u001b[0;34m,\u001b[0m \u001b[0;34m'2018-11-30'\u001b[0m \u001b[0;34m,\u001b[0m \u001b[0;34m'2018-12-01'\u001b[0m\u001b[0;34m]\u001b[0m\u001b[0;34m]\u001b[0m\u001b[0;34m.\u001b[0m\u001b[0mplot\u001b[0m\u001b[0;34m(\u001b[0m\u001b[0mfigsize\u001b[0m\u001b[0;34m=\u001b[0m\u001b[0;34m(\u001b[0m\u001b[0;36m10\u001b[0m\u001b[0;34m,\u001b[0m\u001b[0;36m5\u001b[0m\u001b[0;34m)\u001b[0m\u001b[0;34m)\u001b[0m\u001b[0;34m\u001b[0m\u001b[0;34m\u001b[0m\u001b[0m\n\u001b[0m\u001b[1;32m      2\u001b[0m \u001b[0mplt\u001b[0m\u001b[0;34m.\u001b[0m\u001b[0mtitle\u001b[0m\u001b[0;34m(\u001b[0m\u001b[0;34m'Cohorts: User Retention'\u001b[0m\u001b[0;34m)\u001b[0m\u001b[0;34m\u001b[0m\u001b[0;34m\u001b[0m\u001b[0m\n\u001b[1;32m      3\u001b[0m \u001b[0mplt\u001b[0m\u001b[0;34m.\u001b[0m\u001b[0mxticks\u001b[0m\u001b[0;34m(\u001b[0m\u001b[0mnp\u001b[0m\u001b[0;34m.\u001b[0m\u001b[0marange\u001b[0m\u001b[0;34m(\u001b[0m\u001b[0;36m1\u001b[0m\u001b[0;34m,\u001b[0m \u001b[0;36m12.1\u001b[0m\u001b[0;34m,\u001b[0m \u001b[0;36m1\u001b[0m\u001b[0;34m)\u001b[0m\u001b[0;34m)\u001b[0m\u001b[0;34m\u001b[0m\u001b[0;34m\u001b[0m\u001b[0m\n\u001b[1;32m      4\u001b[0m \u001b[0mplt\u001b[0m\u001b[0;34m.\u001b[0m\u001b[0mxlim\u001b[0m\u001b[0;34m(\u001b[0m\u001b[0;36m1\u001b[0m\u001b[0;34m,\u001b[0m \u001b[0;36m12\u001b[0m\u001b[0;34m)\u001b[0m\u001b[0;34m\u001b[0m\u001b[0;34m\u001b[0m\u001b[0m\n\u001b[1;32m      5\u001b[0m \u001b[0mplt\u001b[0m\u001b[0;34m.\u001b[0m\u001b[0mylabel\u001b[0m\u001b[0;34m(\u001b[0m\u001b[0;34m'% of Cohort Purchasing'\u001b[0m\u001b[0;34m)\u001b[0m\u001b[0;34m;\u001b[0m\u001b[0;34m\u001b[0m\u001b[0;34m\u001b[0m\u001b[0m\n",
      "\u001b[0;32m~/.local/lib/python3.6/site-packages/pandas/core/frame.py\u001b[0m in \u001b[0;36m__getitem__\u001b[0;34m(self, key)\u001b[0m\n\u001b[1;32m   2979\u001b[0m             \u001b[0;32mif\u001b[0m \u001b[0mis_iterator\u001b[0m\u001b[0;34m(\u001b[0m\u001b[0mkey\u001b[0m\u001b[0;34m)\u001b[0m\u001b[0;34m:\u001b[0m\u001b[0;34m\u001b[0m\u001b[0;34m\u001b[0m\u001b[0m\n\u001b[1;32m   2980\u001b[0m                 \u001b[0mkey\u001b[0m \u001b[0;34m=\u001b[0m \u001b[0mlist\u001b[0m\u001b[0;34m(\u001b[0m\u001b[0mkey\u001b[0m\u001b[0;34m)\u001b[0m\u001b[0;34m\u001b[0m\u001b[0;34m\u001b[0m\u001b[0m\n\u001b[0;32m-> 2981\u001b[0;31m             \u001b[0mindexer\u001b[0m \u001b[0;34m=\u001b[0m \u001b[0mself\u001b[0m\u001b[0;34m.\u001b[0m\u001b[0mloc\u001b[0m\u001b[0;34m.\u001b[0m\u001b[0m_convert_to_indexer\u001b[0m\u001b[0;34m(\u001b[0m\u001b[0mkey\u001b[0m\u001b[0;34m,\u001b[0m \u001b[0maxis\u001b[0m\u001b[0;34m=\u001b[0m\u001b[0;36m1\u001b[0m\u001b[0;34m,\u001b[0m \u001b[0mraise_missing\u001b[0m\u001b[0;34m=\u001b[0m\u001b[0;32mTrue\u001b[0m\u001b[0;34m)\u001b[0m\u001b[0;34m\u001b[0m\u001b[0;34m\u001b[0m\u001b[0m\n\u001b[0m\u001b[1;32m   2982\u001b[0m \u001b[0;34m\u001b[0m\u001b[0m\n\u001b[1;32m   2983\u001b[0m         \u001b[0;31m# take() does not accept boolean indexers\u001b[0m\u001b[0;34m\u001b[0m\u001b[0;34m\u001b[0m\u001b[0;34m\u001b[0m\u001b[0m\n",
      "\u001b[0;32m~/.local/lib/python3.6/site-packages/pandas/core/indexing.py\u001b[0m in \u001b[0;36m_convert_to_indexer\u001b[0;34m(self, obj, axis, is_setter, raise_missing)\u001b[0m\n\u001b[1;32m   1269\u001b[0m                 \u001b[0;31m# When setting, missing keys are not allowed, even with .loc:\u001b[0m\u001b[0;34m\u001b[0m\u001b[0;34m\u001b[0m\u001b[0;34m\u001b[0m\u001b[0m\n\u001b[1;32m   1270\u001b[0m                 \u001b[0mkwargs\u001b[0m \u001b[0;34m=\u001b[0m \u001b[0;34m{\u001b[0m\u001b[0;34m\"raise_missing\"\u001b[0m\u001b[0;34m:\u001b[0m \u001b[0;32mTrue\u001b[0m \u001b[0;32mif\u001b[0m \u001b[0mis_setter\u001b[0m \u001b[0;32melse\u001b[0m \u001b[0mraise_missing\u001b[0m\u001b[0;34m}\u001b[0m\u001b[0;34m\u001b[0m\u001b[0;34m\u001b[0m\u001b[0m\n\u001b[0;32m-> 1271\u001b[0;31m                 \u001b[0;32mreturn\u001b[0m \u001b[0mself\u001b[0m\u001b[0;34m.\u001b[0m\u001b[0m_get_listlike_indexer\u001b[0m\u001b[0;34m(\u001b[0m\u001b[0mobj\u001b[0m\u001b[0;34m,\u001b[0m \u001b[0maxis\u001b[0m\u001b[0;34m,\u001b[0m \u001b[0;34m**\u001b[0m\u001b[0mkwargs\u001b[0m\u001b[0;34m)\u001b[0m\u001b[0;34m[\u001b[0m\u001b[0;36m1\u001b[0m\u001b[0;34m]\u001b[0m\u001b[0;34m\u001b[0m\u001b[0;34m\u001b[0m\u001b[0m\n\u001b[0m\u001b[1;32m   1272\u001b[0m         \u001b[0;32melse\u001b[0m\u001b[0;34m:\u001b[0m\u001b[0;34m\u001b[0m\u001b[0;34m\u001b[0m\u001b[0m\n\u001b[1;32m   1273\u001b[0m             \u001b[0;32mtry\u001b[0m\u001b[0;34m:\u001b[0m\u001b[0;34m\u001b[0m\u001b[0;34m\u001b[0m\u001b[0m\n",
      "\u001b[0;32m~/.local/lib/python3.6/site-packages/pandas/core/indexing.py\u001b[0m in \u001b[0;36m_get_listlike_indexer\u001b[0;34m(self, key, axis, raise_missing)\u001b[0m\n\u001b[1;32m   1076\u001b[0m \u001b[0;34m\u001b[0m\u001b[0m\n\u001b[1;32m   1077\u001b[0m         self._validate_read_indexer(\n\u001b[0;32m-> 1078\u001b[0;31m             \u001b[0mkeyarr\u001b[0m\u001b[0;34m,\u001b[0m \u001b[0mindexer\u001b[0m\u001b[0;34m,\u001b[0m \u001b[0mo\u001b[0m\u001b[0;34m.\u001b[0m\u001b[0m_get_axis_number\u001b[0m\u001b[0;34m(\u001b[0m\u001b[0maxis\u001b[0m\u001b[0;34m)\u001b[0m\u001b[0;34m,\u001b[0m \u001b[0mraise_missing\u001b[0m\u001b[0;34m=\u001b[0m\u001b[0mraise_missing\u001b[0m\u001b[0;34m\u001b[0m\u001b[0;34m\u001b[0m\u001b[0m\n\u001b[0m\u001b[1;32m   1079\u001b[0m         )\n\u001b[1;32m   1080\u001b[0m         \u001b[0;32mreturn\u001b[0m \u001b[0mkeyarr\u001b[0m\u001b[0;34m,\u001b[0m \u001b[0mindexer\u001b[0m\u001b[0;34m\u001b[0m\u001b[0;34m\u001b[0m\u001b[0m\n",
      "\u001b[0;32m~/.local/lib/python3.6/site-packages/pandas/core/indexing.py\u001b[0m in \u001b[0;36m_validate_read_indexer\u001b[0;34m(self, key, indexer, axis, raise_missing)\u001b[0m\n\u001b[1;32m   1161\u001b[0m                 raise KeyError(\n\u001b[1;32m   1162\u001b[0m                     \"None of [{key}] are in the [{axis}]\".format(\n\u001b[0;32m-> 1163\u001b[0;31m                         \u001b[0mkey\u001b[0m\u001b[0;34m=\u001b[0m\u001b[0mkey\u001b[0m\u001b[0;34m,\u001b[0m \u001b[0maxis\u001b[0m\u001b[0;34m=\u001b[0m\u001b[0mself\u001b[0m\u001b[0;34m.\u001b[0m\u001b[0mobj\u001b[0m\u001b[0;34m.\u001b[0m\u001b[0m_get_axis_name\u001b[0m\u001b[0;34m(\u001b[0m\u001b[0maxis\u001b[0m\u001b[0;34m)\u001b[0m\u001b[0;34m\u001b[0m\u001b[0;34m\u001b[0m\u001b[0m\n\u001b[0m\u001b[1;32m   1164\u001b[0m                     )\n\u001b[1;32m   1165\u001b[0m                 )\n",
      "\u001b[0;31mKeyError\u001b[0m: \"None of [Index(['2018-11-20', '2018-11-21', '2018-11-22', '2018-11-23', '2018-11-24',\\n       '2018-11-25', '2018-11-26', '2018-11-27', '2018-11-28', '2018-11-29',\\n       '2018-11-30', '2018-12-01'],\\n      dtype='object', name='CohortGroup')] are in the [columns]\""
     ]
    }
   ],
   "source": [
    "user_retention[['2018-11-20' , '2018-11-21' , '2018-11-22' , '2018-11-23' , '2018-11-24' , '2018-11-25' , '2018-11-26' , '2018-11-27' , '2018-11-28' , '2018-11-29' , '2018-11-30' , '2018-12-01']].plot(figsize=(10,5))\n",
    "plt.title('Cohorts: User Retention')\n",
    "plt.xticks(np.arange(1, 12.1, 1))\n",
    "plt.xlim(1, 12)\n",
    "plt.ylabel('% of Cohort Purchasing');"
   ]
  },
  {
   "cell_type": "code",
   "execution_count": 180,
   "metadata": {},
   "outputs": [
    {
     "data": {
      "image/png": "[encoded data removed]",
      "text/plain": [
       "<Figure size 864x936 with 2 Axes>"
      ]
     },
     "metadata": {},
     "output_type": "display_data"
    }
   ],
   "source": [
    "#Representamos con un mapa de calor la retención de clientes a lo largo de este periodo.\n",
    "sns.set(style='white')\n",
    "\n",
    "plt.figure(figsize=(12, 13))\n",
    "plt.title('Cohorts: User Retention')\n",
    "sns.heatmap(user_retention.T, mask=user_retention.T.isnull(), annot=True, fmt='.0%');"
   ]
  },
  {
   "cell_type": "markdown",
   "metadata": {},
   "source": [
    "En este gráfico podemos ver que los usuarios tienden a comprar menos a medida que pasa el tiempo.\n",
    "\n",
    "Sin embargo, también podemos ver que los dos primeros cohortes son los más fuertes (20/11/2018 y 21/11/2018), lo que hace preguntarnos que atributos comunes en estos usuarios podrían estar causando una mayor implicación con la app de Bnext respecto al resto. Esto puede deberse a diversos factores, como el método de captación de usuarios, la campaña de marketing que se utilizo, una promoción de registro..."
   ]
  },
  {
   "cell_type": "code",
   "execution_count": null,
   "metadata": {},
   "outputs": [],
   "source": []
  }
 ],
 "metadata": {
  "kernelspec": {
   "display_name": "Python 3",
   "language": "python",
   "name": "python3"
  },
  "language_info": {
   "codemirror_mode": {
    "name": "ipython",
    "version": 3
   },
   "file_extension": ".py",
   "mimetype": "text/x-python",
   "name": "python",
   "nbconvert_exporter": "python",
   "pygments_lexer": "ipython3",
   "version": "3.6.8"
  }
 },
 "nbformat": 4,
 "nbformat_minor": 2
}
